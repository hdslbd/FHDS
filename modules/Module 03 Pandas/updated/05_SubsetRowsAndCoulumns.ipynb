{
 "cells": [
  {
   "cell_type": "markdown",
   "id": "acbf7bc9-8cb5-4312-a5f1-8b0624bced3a",
   "metadata": {},
   "source": [
    "# Subset - Rows and Columns"
   ]
  },
  {
   "cell_type": "code",
   "execution_count": 2,
   "id": "c27c113f-db9d-4f6c-b268-3ef9e19cee0f",
   "metadata": {
    "tags": []
   },
   "outputs": [],
   "source": [
    "import numpy as np \n",
    "import pandas as pd "
   ]
  },
  {
   "cell_type": "code",
   "execution_count": null,
   "id": "4e8d4756-350f-4ae0-9543-48d10b69562b",
   "metadata": {},
   "outputs": [],
   "source": [
    "data = pd.read.csv(\"../data/\")"
   ]
  },
  {
   "cell_type": "markdown",
   "id": "dd173cdf-46d8-43dc-9c35-2b9f9507b34d",
   "metadata": {},
   "source": [
    "## Select Single Column by Name"
   ]
  },
  {
   "cell_type": "code",
   "execution_count": null,
   "id": "137dc708-c3ee-4e9d-a6c2-3a1dc5648b59",
   "metadata": {},
   "outputs": [],
   "source": []
  }
 ],
 "metadata": {
  "kernelspec": {
   "display_name": "Python 3 (ipykernel)",
   "language": "python",
   "name": "python3"
  },
  "language_info": {
   "codemirror_mode": {
    "name": "ipython",
    "version": 3
   },
   "file_extension": ".py",
   "mimetype": "text/x-python",
   "name": "python",
   "nbconvert_exporter": "python",
   "pygments_lexer": "ipython3",
   "version": "3.11.5"
  }
 },
 "nbformat": 4,
 "nbformat_minor": 5
}
