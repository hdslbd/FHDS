{
 "cells": [
  {
   "cell_type": "markdown",
   "id": "659ff7b4-6e68-43c6-9df8-6bba6c31cf83",
   "metadata": {},
   "source": [
    "# Deep Learning - Introduction "
   ]
  },
  {
   "cell_type": "markdown",
   "id": "3f424174-4048-409c-8dc7-4863120222d3",
   "metadata": {},
   "source": [
    "## What is Deep Learning? \n",
    "Deep Learning is a subfield of Machine Learning that uses Artificial Neural Network to learn from the data."
   ]
  },
  {
   "cell_type": "code",
   "execution_count": 5,
   "id": "f2861f8c-8800-4e4b-87f2-560a748162c2",
   "metadata": {},
   "outputs": [],
   "source": [
    "import pandas as pd \n",
    "import matplotlib.pyplot as plt \n",
    "import seaborn as sns "
   ]
  },
  {
   "cell_type": "code",
   "execution_count": 6,
   "id": "be9d2954-3dcb-4833-9d21-d59b35780b58",
   "metadata": {},
   "outputs": [],
   "source": [
    "import pandas as pd "
   ]
  },
  {
   "cell_type": "code",
   "execution_count": 7,
   "id": "ed3e73e3-79aa-4408-abe8-978b7da105c8",
   "metadata": {},
   "outputs": [],
   "source": [
    "import os "
   ]
  },
  {
   "cell_type": "code",
   "execution_count": null,
   "id": "6c85f750-c9c5-47ad-9e6c-b1f64b899c8c",
   "metadata": {},
   "outputs": [],
   "source": []
  }
 ],
 "metadata": {
  "kernelspec": {
   "display_name": "Python 3 (ipykernel)",
   "language": "python",
   "name": "python3"
  },
  "language_info": {
   "codemirror_mode": {
    "name": "ipython",
    "version": 3
   },
   "file_extension": ".py",
   "mimetype": "text/x-python",
   "name": "python",
   "nbconvert_exporter": "python",
   "pygments_lexer": "ipython3",
   "version": "3.8.18"
  }
 },
 "nbformat": 4,
 "nbformat_minor": 5
}
