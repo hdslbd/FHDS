{
 "cells": [
  {
   "cell_type": "markdown",
   "id": "41c9d9bc",
   "metadata": {},
   "source": [
    "# Matplotlib for Beginners\n",
    "Matplotlib is a library for making 2D plots in Python. It is designed with the philosophy that you should be able to\n",
    "create simple plots with just a few commands"
   ]
  },
  {
   "cell_type": "markdown",
   "id": "377f13d2",
   "metadata": {},
   "source": [
    "## Initialize\n",
    "- NumPy (`np`): Used for numerical operations. In this example, it helps create an array of values for the x-axis.\n",
    "- Matplotlib (`plt`): The main plotting library in Python."
   ]
  },
  {
   "cell_type": "code",
   "execution_count": null,
   "id": "934ff284",
   "metadata": {
    "tags": []
   },
   "outputs": [],
   "source": [
    "import numpy as np\n",
    "import matplotlib.pyplot as plt"
   ]
  },
  {
   "cell_type": "markdown",
   "id": "ecb9ab78",
   "metadata": {},
   "source": [
    "## Prepare"
   ]
  },
  {
   "cell_type": "code",
   "execution_count": null,
   "id": "e4333cc8",
   "metadata": {
    "tags": []
   },
   "outputs": [],
   "source": [
    "X = np.linspace(0, 4*np.pi, 1000)\n",
    "Y = np.sin(X)"
   ]
  },
  {
   "cell_type": "markdown",
   "id": "88ae7b0d-1b51-4509-8518-b9e45866cd2a",
   "metadata": {
    "tags": []
   },
   "source": [
    "- `np.linspace`: Generates evenly spaced numbers over a specified `range`. Here, it creates 1000 points between **0 and 4π** (approximately 12.57) for the x-axis.\n",
    "- `np.sin`: Computes the sine of each element in the array, creating the y-axis values."
   ]
  },
  {
   "cell_type": "markdown",
   "id": "7fb3410e",
   "metadata": {},
   "source": [
    "## Render\n",
    "- `plt.subplots()`: Creates a figure and a set of subplots. `fig` is the figure object, and ax is the axes object.\n",
    "- `ax.plot(X, Y)`: Plots the data on the axes.\n",
    "- `plt.show()`: Displays the plot."
   ]
  },
  {
   "cell_type": "code",
   "execution_count": null,
   "id": "790d52f3",
   "metadata": {},
   "outputs": [],
   "source": [
    "fig, ax = plt.subplots()\n",
    "ax.plot(X, Y)\n",
    "plt.show()"
   ]
  },
  {
   "cell_type": "markdown",
   "id": "790878b8",
   "metadata": {},
   "source": [
    "## Observe\n",
    "After running the code, you should observe a plot of the sine function in the specified range."
   ]
  },
  {
   "cell_type": "code",
   "execution_count": null,
   "id": "746cc925",
   "metadata": {},
   "outputs": [],
   "source": [
    "fig, ax = plt.subplots()\n",
    "ax.plot(X, Y)\n",
    "plt.show()"
   ]
  },
  {
   "cell_type": "markdown",
   "id": "f693cdca",
   "metadata": {},
   "source": [
    "## Choose Your Plot\n",
    "Matplotlib offers several kind of plots ([see Gallery](https://matplotlib.org/stable/gallery/index.html))\n"
   ]
  },
  {
   "cell_type": "markdown",
   "id": "8da48dd1-e5b4-4bea-b352-a98eaca8b915",
   "metadata": {},
   "source": [
    "### Scatter Plot\n",
    "A scatterplot displays the relationship between 2 `numeric variables`. For each data point, the value of its first variable is represented on the X axis, the second on the Y axis.\n",
    "\n",
    "- `X = np.random.uniform(0, 1, 100):` Generates an array of 100 random numbers between 0 and 1 for the x-axis.\n",
    "- `Y = np.random.uniform(0, 1, 100):` Generates an array of 100 random numbers between 0 and 1 for the y-axis.\n",
    "- `plt.scatter(X, Y):` Creates a scatter plot using the generated random data. Each point in the plot corresponds to a pair of values from the X and Y arrays.\n",
    "- `plt.show():` Displays the scatter plot."
   ]
  },
  {
   "cell_type": "code",
   "execution_count": null,
   "id": "ff984329",
   "metadata": {},
   "outputs": [],
   "source": [
    "X = np.random.uniform(0, 1, 100)\n",
    "Y = np.random.uniform(0, 1, 100)\n",
    "plt.scatter(X, Y)\n",
    "\n",
    "plt.show()"
   ]
  },
  {
   "cell_type": "markdown",
   "id": "630d5308-5990-4750-9fc9-ccc680627bb6",
   "metadata": {},
   "source": [
    "### Bar Plot\n",
    "A barplot shows the relationship `between a numeric` and a categoric variable. Each entity of the categoric variable is represented as a bar. The size of the bar represents its numeric value.\n",
    "\n",
    "- `X = np.arange(10):` Creates an array with values from 0 to 9. This will be used as the x-axis values for the bar plot.\n",
    "- `Y = np.random.uniform(1, 10, 10):` Generates an array of 10 random numbers between 1 and 10. Each y-value corresponds to a bar in the plot.\n",
    "- `plt.bar(X, Y):` Creates a bar plot using the generated x and y values. The x-values are taken from the array X, and the y-values are taken from the array Y.\n",
    "- `plt.show():` Displays the bar plot.\n"
   ]
  },
  {
   "cell_type": "code",
   "execution_count": null,
   "id": "558f57f9",
   "metadata": {},
   "outputs": [],
   "source": [
    "X = np.arange(10)\n",
    "Y = np.random.uniform(1, 10, 10)\n",
    "plt.bar(X, Y)\n",
    "plt.show()"
   ]
  },
  {
   "cell_type": "markdown",
   "id": "75f42fee-90c5-49f7-86eb-467849790ef3",
   "metadata": {},
   "source": [
    "### Image Plot\n",
    "An image plot is a type of visualization that represents a 2D array of data as a graphical image. It is commonly used in scientific, engineering, and data analysis contexts to visualize patterns, distributions, or structures within the data. In the context of Matplotlib, the imshow function is specifically designed for creating image plots.\n",
    "\n",
    "- `Z = np.random.uniform(0, 1, (8, 8)):` Creates an 8x8 array of random numbers between 0 and 1. This 2D array serves as the data for the image plot.\n",
    "- `plt.imshow(Z):` Creates an image plot using the 2D array Z. Each element in the array corresponds to a pixel in the image.\n",
    "- `plt.show(): `Displays the image plot."
   ]
  },
  {
   "cell_type": "code",
   "execution_count": null,
   "id": "de2d1177",
   "metadata": {},
   "outputs": [],
   "source": [
    "Z = np.random.uniform(0, 1, (8,8))\n",
    "plt.imshow(Z)\n",
    "plt.show()"
   ]
  },
  {
   "cell_type": "markdown",
   "id": "513b5346-a632-4ef6-94fb-a4d75fac51f7",
   "metadata": {},
   "source": [
    "### Contourf\n",
    "The `contourf` function in Matplotlib is used to create filled contour plots, which are graphical representations of 3D data on a 2D surface. These plots are useful for visualizing data with continuous variations, such as elevation maps, temperature distributions, or any other scalar field.\n",
    "\n",
    "- `Z = np.random.uniform(0, 1, (8, 8)):` Creates an 8x8 array of random numbers between 0 and 1. This 2D array serves as the data for the filled contour plot.\n",
    "- `plt.contourf(Z): `Creates a filled contour plot using the values in the 2D array Z. The colors represent different levels or ranges of values.\n",
    "- `plt.show():` Displays the filled contour plot.\n"
   ]
  },
  {
   "cell_type": "code",
   "execution_count": null,
   "id": "0a1fba66",
   "metadata": {},
   "outputs": [],
   "source": [
    "Z = np.random.uniform(0, 1, (8,8))\n",
    "plt.contourf(Z)\n",
    "plt.show()"
   ]
  },
  {
   "cell_type": "markdown",
   "id": "bac2dfce-e2d7-425d-b18d-5e42163fbc18",
   "metadata": {},
   "source": [
    "### Pie Chart \n",
    "A pie chart is a circular statistical graphic that is divided into slices to illustrate numerical proportions. Each slice represents a proportion of the whole, and the size of each slice is determined by the value it represents relative to the total.\n",
    "\n",
    "- `Z = np.random.uniform(0, 1, 4):` Creates an array of 4 random numbers between 0 and 1. These values will be used to determine the sizes of the slices in the pie chart.\n",
    "- `plt.pie(Z):` Creates a pie chart using the values in the array Z. The sizes of the pie slices are proportional to the values in the array.\n",
    "- `plt.show():` Displays the pie chart.\n"
   ]
  },
  {
   "cell_type": "code",
   "execution_count": null,
   "id": "45fe2a30",
   "metadata": {},
   "outputs": [],
   "source": [
    "Z = np.random.uniform(0, 1, 4)\n",
    "plt.pie(Z)\n",
    "plt.show()"
   ]
  },
  {
   "cell_type": "markdown",
   "id": "98f5d471-72fa-4f3a-a1a2-7450caa3daa4",
   "metadata": {},
   "source": [
    "## Histogram\n",
    "A histogram takes as input a `numeric variable` only. The variable is cut into several bins, and the number of observation per bin is represented by the height of the bar. It is possible to represent the distribution of several variable on the same axis using this technique.\n",
    "\n",
    "- `Z = np.random.normal(0, 1, 100):` Generates an array of 100 random numbers drawn from a normal distribution with a mean of 0 and a standard deviation of 1.\n",
    "- `plt.hist(Z):` Creates a histogram of the data in array Z. The histogram bins the data and displays bars representing the frequency of values falling into each bin.\n",
    "- `plt.show():` Displays the histogram.\n"
   ]
  },
  {
   "cell_type": "code",
   "execution_count": null,
   "id": "d49b4549",
   "metadata": {},
   "outputs": [],
   "source": [
    "Z = np.random.normal(0, 1, 100)\n",
    "plt.hist(Z)\n",
    "plt.show()"
   ]
  },
  {
   "cell_type": "markdown",
   "id": "734c3c04-e2d9-488c-bb3c-a3cd13922219",
   "metadata": {},
   "source": [
    "### Errorbars\n",
    "Error bars are useful for visually representing the uncertainty or variability associated with each data point. In this example, the error bars indicate the range within which the actual values may lie.\n",
    "\n",
    "- `X = np.arange(5):` Creates an array with values [0, 1, 2, 3, 4] for the x-axis.\n",
    "- `Y = np.random.uniform(0, 1, 5):` Generates an array of 5 random numbers between 0 and 1 for the y-axis.\n",
    "- `plt.errorbar(X, Y, yerr=(Y/4)):` Creates a plot with error bars. The yerr parameter specifies the vertical error or uncertainty for each data point. In this case, it's set to Y/4, indicating that the error bars extend a quarter of the Y value above and below each data point.\n",
    "- `plt.show():` Displays the plot with error bars.\n"
   ]
  },
  {
   "cell_type": "code",
   "execution_count": null,
   "id": "2c0b9319",
   "metadata": {},
   "outputs": [],
   "source": [
    "X = np.arange(5)\n",
    "Y = np.random.uniform(0, 1, 5)\n",
    "plt.errorbar(X, Y, (Y/4))\n",
    "plt.show()"
   ]
  },
  {
   "cell_type": "markdown",
   "id": "30a55e64-fa41-4fd5-9089-bf60e5442606",
   "metadata": {},
   "source": [
    "### Boxplot \n",
    "A barplot shows the relationship between a numeric and a categoric variable. Each entity of the categoric variable is represented as a bar. The size of the bar represents its numeric value.\n",
    "\n",
    "- `Z = np.random.normal(0, 1, (100, 3)):` Creates a 2D array with 100 rows and 3 columns of random numbers drawn from a normal distribution with a mean of 0 and a standard deviation of 1.\n",
    "- `plt.boxplot(Z):` Creates a boxplot of the data in the array Z. The boxplot visualizes the distribution of each column of the array using boxes and whiskers.\n",
    "- `plt.show():` Displays the boxplot.\n"
   ]
  },
  {
   "cell_type": "code",
   "execution_count": null,
   "id": "09e03701",
   "metadata": {},
   "outputs": [],
   "source": [
    "Z = np.random.normal(0, 1, (100,3))\n",
    "plt.boxplot(Z)\n",
    "plt.show()"
   ]
  },
  {
   "cell_type": "markdown",
   "id": "112335de",
   "metadata": {},
   "source": [
    "## Tweak\n",
    "You can modify pretty much anything in a plot, including lim\u0002its, colors, markers, line width and styles, ticks and ticks labels, titles, etc."
   ]
  },
  {
   "cell_type": "markdown",
   "id": "e29135c9-a8bc-4fd5-a691-ebdb0ed8beab",
   "metadata": {},
   "source": [
    "### Color \n",
    "- `X = np.linspace(0, 10, 100): `Creates an array of 100 evenly spaced values between 0 and 10 for the x-axis.\n",
    "- Y = np.sin(X): Calculates the sine values for each x value, generating the y-axis data.\n",
    "- `plt.plot(X, Y, color=\"black\"):` Plots the x and y data using a black line.\n",
    "- `plt.show():` Displays the plot.\n",
    "\n",
    "In this example, you've created a basic line plot of the sine function. The `color=\"black\"` parameter sets the color of the line to black. You can further customize the plot by adding labels, titles, changing line styles, markers, and more."
   ]
  },
  {
   "cell_type": "code",
   "execution_count": null,
   "id": "abaf9f2e",
   "metadata": {},
   "outputs": [],
   "source": [
    "X = np.linspace(0, 10, 100)\n",
    "Y = np.sin(X)\n",
    "plt.plot(X, Y, color = \"black\")\n",
    "plt.show()"
   ]
  },
  {
   "cell_type": "markdown",
   "id": "02c74a3e-a1cf-463d-be37-948459427af4",
   "metadata": {},
   "source": [
    "### Linestyle\n",
    "- `X = np.linspace(0, 10, 100):` Creates an array of 100 evenly spaced values between 0 and 10 for the x-axis.\n",
    "- `Y = np.sin(X):` Calculates the sine values for each x value, generating the y-axis data.\n",
    "- `plt.plot(X, Y, linestyle=\"--\"):` Plots the x and y data with a dashed line.\n",
    "- `plt.show(): Displays the plot.`\n",
    "\n",
    "The `linestyle=\"--\"` parameter specifies that the line connecting the data points should be dashed. You can customize the line style further by using other values such as `\"-\"` for a solid line, `\":\"` for a dotted line, or `\"-.\"` for a dash-dot pattern."
   ]
  },
  {
   "cell_type": "code",
   "execution_count": null,
   "id": "45f84b35",
   "metadata": {},
   "outputs": [],
   "source": [
    "X = np.linspace(0, 10, 100)\n",
    "Y = np.sin(X)\n",
    "plt.plot(X, Y, linestyle = \"--\")\n",
    "plt.show()"
   ]
  },
  {
   "cell_type": "markdown",
   "id": "df0815de-731b-4b57-b102-e9fe5833a71b",
   "metadata": {},
   "source": [
    "### Linewidth\n",
    "- `X = np.linspace(0, 10, 100):` Creates an array of 100 evenly spaced values between 0 and 10 for the x-axis.\n",
    "- `Y = np.sin(X):` Calculates the sine values for each x value, generating the y-axis data.\n",
    "- `plt.plot(X, Y, linewidth=5):` Plots the x and y data with a line that has a thickness of 5.\n",
    "- `plt.show():` Displays the plot.\n",
    "\n",
    "The `linewidth=5` parameter specifies the thickness of the line. You can adjust the value to make the line thicker or thinner based on your preferences."
   ]
  },
  {
   "cell_type": "code",
   "execution_count": null,
   "id": "ceaa4dd4",
   "metadata": {},
   "outputs": [],
   "source": [
    "X = np.linspace(0, 10, 100)\n",
    "Y = np.sin(X)\n",
    "plt.plot(X, Y, linewidth=5)\n",
    "plt.show()"
   ]
  },
  {
   "cell_type": "markdown",
   "id": "50424a42-5f3f-4318-b4ad-31ac4cebce03",
   "metadata": {},
   "source": [
    "### Markers\n",
    "- `X = np.linspace(0, 10, 100):` Creates an array of 100 evenly spaced values between 0 and 10 for the x-axis.\n",
    "- `Y = np.sin(X):` Calculates the sine values for each x value, generating the y-axis data.\n",
    "- `plt.plot(X, Y, marker=\"o\"):` Plots the x and y data with circular markers at each data point.\n",
    "- `plt.show():` Displays the plot.\n",
    "\n",
    "Using markers is a way to emphasize individual data points on a line plot, making it easier to distinguish and visualize the specific values. You can customize the appearance of the markers further by adjusting parameters such as marker `size`, `color`, and `style`."
   ]
  },
  {
   "cell_type": "code",
   "execution_count": null,
   "id": "7ec67993",
   "metadata": {},
   "outputs": [],
   "source": [
    "X = np.linspace(0, 10, 100)\n",
    "Y = np.sin(X)\n",
    "plt.plot(X, Y, marker = \"o\")\n",
    "plt.show()"
   ]
  },
  {
   "cell_type": "markdown",
   "id": "339ceac1",
   "metadata": {},
   "source": [
    "## Organize Plots\n",
    "You can plot several data on the the same figure, but you can also split a figure in several subplots (named Axes)"
   ]
  },
  {
   "cell_type": "markdown",
   "id": "98e71f44-f1a9-4f21-a465-8bf55061222d",
   "metadata": {},
   "source": [
    "- `plt.subplots(2, 1, figsize=(8, 6))` creates a figure with two subplots arranged vertically.\n",
    "- `(ax1, ax2)` are the axes objects corresponding to the two subplots.\n",
    "- `ax1.plot(X, Y1, label='sin(X)', color='blue') and ax2.plot(X, Y2, label='cos(X)', color='red')` plot data on each subplot.\n",
    "- `ax1.set_title('Subplot 1') and ax2.set_title('Subplot 2')` set titles for each subplot.\n",
    "- `ax1.legend() and ax2.legend()` add legends to each subplot.\n",
    "- `plt.tight_layout()` adjusts the layout for better spacing.\n",
    "\n",
    "\n",
    "Adjust the number of rows and columns in plt.subplots, as well as the layout, based on your specific needs. This example demonstrates a simple way to organize multiple subplots on a single figure."
   ]
  },
  {
   "cell_type": "code",
   "execution_count": null,
   "id": "3b57876d",
   "metadata": {
    "tags": []
   },
   "outputs": [],
   "source": [
    "X = np.linspace(0, 10, 100)\n",
    "Y1, Y2 = np.sin(X), np.cos(X)\n",
    "ax.plot(X, Y1, X, Y2)"
   ]
  },
  {
   "cell_type": "code",
   "execution_count": null,
   "id": "4d40910a",
   "metadata": {},
   "outputs": [],
   "source": [
    "fig, (ax1, ax2) = plt.subplots(2,1)\n",
    "ax1.plot(X, Y1, color = \"C1\")\n",
    "ax2.plot(X, Y2, color = \"C0\")"
   ]
  },
  {
   "cell_type": "code",
   "execution_count": null,
   "id": "611b6682",
   "metadata": {},
   "outputs": [],
   "source": [
    "fig, (ax1, ax2) = plt.subplots(1,2)\n",
    "ax1.plot(X, Y1, color = \"C1\")\n",
    "ax2.plot(X, Y2, color = \"C0\")"
   ]
  },
  {
   "cell_type": "markdown",
   "id": "157e0fe8",
   "metadata": {},
   "source": [
    "## Label (everything)"
   ]
  },
  {
   "cell_type": "code",
   "execution_count": null,
   "id": "ad2d5487",
   "metadata": {},
   "outputs": [],
   "source": [
    "ax.plot(X, Y)\n",
    "fig.suptitle(None)\n",
    "ax.set_title(\"A Sine wave\")"
   ]
  },
  {
   "cell_type": "code",
   "execution_count": null,
   "id": "07bfcc10",
   "metadata": {},
   "outputs": [],
   "source": [
    "ax.plot(X, Y)\n",
    "ax.set_ylabel(None)\n",
    "ax.set_xlabel(\"Time\")"
   ]
  },
  {
   "cell_type": "markdown",
   "id": "dc0a2e6e",
   "metadata": {},
   "source": [
    "## Save (bitmap or vector format)\n"
   ]
  },
  {
   "cell_type": "code",
   "execution_count": null,
   "id": "b7652ca5",
   "metadata": {},
   "outputs": [],
   "source": [
    "fig.savefig(”my-first-figure.png”, dpi=300)\n",
    "fig.savefig(”my-first-figure.pdf”)"
   ]
  }
 ],
 "metadata": {
  "kernelspec": {
   "display_name": "Python 3 (ipykernel)",
   "language": "python",
   "name": "python3"
  },
  "language_info": {
   "codemirror_mode": {
    "name": "ipython",
    "version": 3
   },
   "file_extension": ".py",
   "mimetype": "text/x-python",
   "name": "python",
   "nbconvert_exporter": "python",
   "pygments_lexer": "ipython3",
   "version": "3.11.5"
  }
 },
 "nbformat": 4,
 "nbformat_minor": 5
}
