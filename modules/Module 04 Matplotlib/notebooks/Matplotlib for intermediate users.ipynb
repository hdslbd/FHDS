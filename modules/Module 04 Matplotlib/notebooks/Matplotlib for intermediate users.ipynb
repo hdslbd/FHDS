{
 "cells": [
  {
   "cell_type": "markdown",
   "id": "c93d98d9-8f4e-4a77-873d-5e91f1e68fad",
   "metadata": {},
   "source": [
    "# Matplotlib for Intermediate Users\n",
    "A matplotlib figure is composed of a hierarchy of elements that forms the actual figure. Each element can be modified."
   ]
  },
  {
   "cell_type": "markdown",
   "id": "2da7aa47-4c95-4e4f-b1c3-7f8f26e012e9",
   "metadata": {},
   "source": [
    "## Anatomy of a Figure \n",
    "A matplotlib visualization is a figure onto which is attached one or more axes. Each axes has a horizontal (x) axis and vertical (y) axis, and the data is encoded using color and glyphs such as markers (for example circles) or lines or polygons (called patches). The figure below annotates these parts of a visualization and was created by Nicolas P. Rougier using matplotlib. \n",
    "\n",
    "<center><img src = \"../img/mpl_anatomy.png\"></center>"
   ]
  },
  {
   "cell_type": "markdown",
   "id": "aa78060a-7bfd-44e2-b30d-c42d4096184c",
   "metadata": {
    "tags": []
   },
   "source": [
    "## Figure, Axes and Spines\n"
   ]
  },
  {
   "cell_type": "code",
   "execution_count": null,
   "id": "5cb5331d-beb4-4444-8a91-b51aac7401a0",
   "metadata": {},
   "outputs": [],
   "source": []
  }
 ],
 "metadata": {
  "kernelspec": {
   "display_name": "Python 3 (ipykernel)",
   "language": "python",
   "name": "python3"
  },
  "language_info": {
   "codemirror_mode": {
    "name": "ipython",
    "version": 3
   },
   "file_extension": ".py",
   "mimetype": "text/x-python",
   "name": "python",
   "nbconvert_exporter": "python",
   "pygments_lexer": "ipython3",
   "version": "3.11.5"
  }
 },
 "nbformat": 4,
 "nbformat_minor": 5
}
