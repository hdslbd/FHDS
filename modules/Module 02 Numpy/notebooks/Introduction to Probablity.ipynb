{
 "cells": [
  {
   "cell_type": "markdown",
   "id": "5b61d5ff-153a-4918-a863-ca2709f977b6",
   "metadata": {},
   "source": [
    "# Probability for Machine Learning"
   ]
  },
  {
   "cell_type": "markdown",
   "id": "39b107dc-5625-47a1-9855-710f62237581",
   "metadata": {},
   "source": [
    "## Learning Objectives \n",
    "https://online.stat.psu.edu/stat414/\n",
    "Upon completion of this lesson, you should be able to:\n",
    "\n",
    "<div class=\"alert alert-info\" style=\"font-size:120%\">\n",
    "\n",
    "- Learn the distinction between a population and a sample.\n",
    "- Learn how to define an outcome (sample) space.\n",
    "- Learn how to identify the different types of data: discrete, continuous, categorical, binary.\n",
    "- Learn how to summarize quantitative data graphically using a histogram.\n",
    "- Learn how statistical packages construct histograms for discrete data.\n",
    "- Learn how statistical packages construct histograms for continuous data.\n",
    "- Learn the distinction between frequency histograms, relative frequency histograms, and density histograms.\n",
    "- Learn how to \"read\" information from the three types of histograms.\n",
    "</div>"
   ]
  },
  {
   "cell_type": "markdown",
   "id": "ee874ed8-5df0-447b-9f0e-94155c799216",
   "metadata": {},
   "source": [
    "## Research Questions\n",
    "- What is the impact of regular physical activity on the mental health of individuals diagnosed with depression or anxiety?\n",
    "\n",
    "- How does the frequency of preventive healthcare screenings (e.g., mammograms, colonoscopies) correlate with the early detection and successful treatment of diseases such as breast cancer or colorectal cancer?\n",
    "\n",
    "- What are the long-term effects of a plant-based diet on cardiovascular health and cholesterol levels in a diverse population of adults?\n",
    "\n",
    "- How does the implementation of telemedicine services impact patient satisfaction, accessibility, and health outcomes for individuals with chronic illnesses in rural areas?\n",
    "\n",
    "__If we were to attempt to answer our research questions, we would soon learn that we couldn't ask every person in the population.__\n",
    "\n",
    "\n",
    "How can we answer our research question if we can't ask every person in the population our research question?\n",
    "\n",
    "We could take a `random sample` from the `population`, and use the resulting sample to learn something about the population."
   ]
  },
  {
   "cell_type": "markdown",
   "id": "f4aaa0df-6b5b-4183-85ec-383a97f13148",
   "metadata": {
    "tags": []
   },
   "source": [
    "## Populations and Random Samples\n",
    "\n",
    "![](../img/population_sample.png)\n",
    "\n",
    "\n",
    "**Population:** The entire group of individuals or cases that the researcher is interested in studying. For example, the population for the research question \"What percentage of college students feel sleep-deprived?\" is all college students in Bangladesh.\n",
    "\n",
    "**Sample:** A subset of the population selected for study. The goal is for the sample to be representative of the larger population. For instance, a random sample of 1300 Bangladeshi college students might be selected to answer the sleep-deprivation question.\n",
    "\n",
    "**Sampling:**  The process of choosing individuals from the population to be part of the sample. Random sampling methods help ensure that every member of the population has an equal chance of being included.\n",
    "\n",
    "**Inference:** Drawing conclusions or making predictions about the population based on the observations and analysis of the sample. The idea is that if the sample is representative, findings from the sample can be applied to the broader population."
   ]
  },
  {
   "cell_type": "markdown",
   "id": "a58da074-a606-4737-ae7a-8f2213db8902",
   "metadata": {},
   "source": [
    "Let's adapt the concepts of sampling and research questions to the context of healthcare in Bangladesh\n",
    "\n",
    "**Research Question:** What is the prevalence of diabetes among adults in Bangladesh?\n",
    "\n",
    "- **Population:** All adults in Bangladesh.\n",
    "- **Sample:** A random sample of 1000 adults from various regions and demographics in Bangladesh.\n",
    "- **Sampling:** Use random sampling methods to select a diverse group of adults from urban and rural areas.\n",
    "- **Inference:** Analyze the health data from the sample to make inferences about the prevalence of diabetes among the entire adult population in Bangladesh.\n"
   ]
  },
  {
   "cell_type": "code",
   "execution_count": null,
   "id": "3b79eb85-4839-4ffd-82e0-d09dd10d1e01",
   "metadata": {},
   "outputs": [],
   "source": []
  }
 ],
 "metadata": {
  "kernelspec": {
   "display_name": "Python 3 (ipykernel)",
   "language": "python",
   "name": "python3"
  },
  "language_info": {
   "codemirror_mode": {
    "name": "ipython",
    "version": 3
   },
   "file_extension": ".py",
   "mimetype": "text/x-python",
   "name": "python",
   "nbconvert_exporter": "python",
   "pygments_lexer": "ipython3",
   "version": "3.11.5"
  }
 },
 "nbformat": 4,
 "nbformat_minor": 5
}
