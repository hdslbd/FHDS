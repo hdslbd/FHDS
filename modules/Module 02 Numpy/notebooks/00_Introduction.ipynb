{
 "cells": [
  {
   "cell_type": "markdown",
   "id": "c912fbec",
   "metadata": {},
   "source": [
    "# Introduction to NumPy "
   ]
  },
  {
   "cell_type": "markdown",
   "id": "d5d28ef1",
   "metadata": {},
   "source": [
    "## What is NumPy?\n",
    "- NumPy is a Python library used for working with arrays.\n",
    "\n",
    "- It also has functions for working in domain of linear algebra, fourier transform, and matrices.\n",
    "\n",
    "- NumPy was created in 2005 by Travis Oliphant. It is an open source project and you can use it freely.\n",
    "\n",
    "- NumPy stands for Numerical Python."
   ]
  },
  {
   "cell_type": "markdown",
   "id": "5b45b5fe",
   "metadata": {},
   "source": [
    "## Why Use NumPy?\n",
    "- In Python we have lists that serve the purpose of arrays, but they are slow to process.\n",
    "\n",
    "- NumPy aims to provide an array object that is up to 50x faster than traditional Python lists.\n",
    "\n",
    "- The array object in NumPy is called `ndarray`, it provides a lot of supporting functions that make working with `ndarray` very easy.\n",
    "\n",
    "- Arrays are very frequently used in data science, where speed and resources are very important."
   ]
  },
  {
   "cell_type": "markdown",
   "id": "16ca9595-6dd7-40c3-a5a7-88674c5e379f",
   "metadata": {},
   "source": [
    "## Why is NumPy Faster Than Lists?\n",
    "- NumPy arrays are stored at one continuous place in memory unlike lists, so processes can access and manipulate them very efficiently.\n",
    "\n",
    "- This behavior is called locality of reference in computer science.\n",
    "\n",
    "- This is the main reason why NumPy is faster than lists. Also it is optimized to work with latest CPU architectures."
   ]
  },
  {
   "cell_type": "markdown",
   "id": "1652e6b3",
   "metadata": {},
   "source": [
    "## NumPy Array\n",
    "Numpy array is a powerful N-dimensional array object which is in the form of rows and columns. We can initialize numpy arrays from nested Python lists and access it elements. In order to perform these numpy operations.\n",
    "\n",
    "## N-dimensional Array\n",
    "- 1Dimensional(1D) Array\n",
    "- 2Dimensional(2D) Array\n",
    "- 3Dimensional(3D) Array\n",
    "\n",
    "\n",
    "![NdArray](../img/arrays.png)\n"
   ]
  },
  {
   "cell_type": "markdown",
   "id": "a40beff6",
   "metadata": {},
   "source": [
    "## NumPy Ecosystem \n",
    "- [statsmodel](https://www.statsmodels.org/stable/index.html) \n",
    "Estimate statistical models, and performs tests. \n",
    "- [scikit-image](https://scikit-image.org/) \n",
    "Collection of algorithms for image processing.\n",
    "- [scikit-learn](https://scikit-learn.org/stable/tutorial/basic/tutorial.html#machine-learning-the-problem-setting) \n",
    "Simple and efficient tools for machine learning \n",
    "- [pandas](https://pandas.pydata.org/) \n",
    "Data Analysis and manipulation.\n",
    "- [matplotlib](https://matplotlib.org/index.html)\n",
    "Plotting library for 2D graphs and visualizations."
   ]
  },
  {
   "cell_type": "markdown",
   "id": "9e3627d6",
   "metadata": {},
   "source": [
    "## Why Numpy?\n",
    "- Less Memory\n",
    "- Fast\n",
    "- Convenient"
   ]
  }
 ],
 "metadata": {
  "kernelspec": {
   "display_name": "Python 3 (ipykernel)",
   "language": "python",
   "name": "python3"
  },
  "language_info": {
   "codemirror_mode": {
    "name": "ipython",
    "version": 3
   },
   "file_extension": ".py",
   "mimetype": "text/x-python",
   "name": "python",
   "nbconvert_exporter": "python",
   "pygments_lexer": "ipython3",
   "version": "3.11.5"
  },
  "latex_envs": {
   "LaTeX_envs_menu_present": true,
   "autoclose": false,
   "autocomplete": true,
   "bibliofile": "biblio.bib",
   "cite_by": "apalike",
   "current_citInitial": 1,
   "eqLabelWithNumbers": true,
   "eqNumInitial": 1,
   "hotkeys": {
    "equation": "Ctrl-E",
    "itemize": "Ctrl-I"
   },
   "labels_anchors": false,
   "latex_user_defs": false,
   "report_style_numbering": false,
   "user_envs_cfg": false
  }
 },
 "nbformat": 4,
 "nbformat_minor": 5
}
