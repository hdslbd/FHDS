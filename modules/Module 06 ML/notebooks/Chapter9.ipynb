{
 "cells": [
  {
   "cell_type": "markdown",
   "id": "9c7b3112-450e-4233-8298-64cdd3165413",
   "metadata": {},
   "source": [
    "## Evaluate the Performance of Machine Learning Algorithms with Resampling"
   ]
  },
  {
   "cell_type": "code",
   "execution_count": null,
   "id": "40082588-fb9a-404d-bcd3-079b26535bbb",
   "metadata": {},
   "outputs": [],
   "source": []
  }
 ],
 "metadata": {
  "kernelspec": {
   "display_name": "Python 3 (ipykernel)",
   "language": "python",
   "name": "python3"
  },
  "language_info": {
   "codemirror_mode": {
    "name": "ipython",
    "version": 3
   },
   "file_extension": ".py",
   "mimetype": "text/x-python",
   "name": "python",
   "nbconvert_exporter": "python",
   "pygments_lexer": "ipython3",
   "version": "3.11.5"
  }
 },
 "nbformat": 4,
 "nbformat_minor": 5
}
