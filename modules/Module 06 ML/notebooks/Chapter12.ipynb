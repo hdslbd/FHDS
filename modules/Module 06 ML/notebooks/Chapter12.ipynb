{
 "cells": [
  {
   "cell_type": "markdown",
   "id": "5a75e99c-8681-47c6-994d-493321135cfd",
   "metadata": {},
   "source": [
    "# Spot-Check Regression Algorithms"
   ]
  },
  {
   "cell_type": "code",
   "execution_count": null,
   "id": "387ce8dc-37ad-475a-99c1-56765c5bcfb1",
   "metadata": {},
   "outputs": [],
   "source": []
  }
 ],
 "metadata": {
  "kernelspec": {
   "display_name": "Python 3 (ipykernel)",
   "language": "python",
   "name": "python3"
  },
  "language_info": {
   "codemirror_mode": {
    "name": "ipython",
    "version": 3
   },
   "file_extension": ".py",
   "mimetype": "text/x-python",
   "name": "python",
   "nbconvert_exporter": "python",
   "pygments_lexer": "ipython3",
   "version": "3.11.5"
  }
 },
 "nbformat": 4,
 "nbformat_minor": 5
}
