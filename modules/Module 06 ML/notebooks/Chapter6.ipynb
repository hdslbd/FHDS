{
 "cells": [
  {
   "cell_type": "markdown",
   "id": "64eb9913-cadb-445d-bae5-2e7b68d13e6a",
   "metadata": {},
   "source": [
    "## Understand Your Data With Visualization"
   ]
  },
  {
   "cell_type": "markdown",
   "id": "3a67fcbe-2741-485c-870d-8eaffd268216",
   "metadata": {},
   "source": [
    "You must understand your data in order to get the best results from machine learning algorithms. The fastest way to learn more about your data is to use data visualization. In this chapter you will discover exactly how you can visualize your machine learning data in Python using Pandas. Recipes in this chapter use the Pima Indians onset of diabetes dataset introduced in previous lecture. Let’s get started."
   ]
  },
  {
   "cell_type": "code",
   "execution_count": null,
   "id": "d2bfe750-36ed-4743-80d7-3a8fc1f60208",
   "metadata": {
    "tags": []
   },
   "outputs": [],
   "source": [
    "# import packages \n",
    "import numpy as np \n",
    "import pandas as pd \n",
    "import matplotlib.pyplot as plt \n",
    "import seaborn as sns "
   ]
  },
  {
   "cell_type": "code",
   "execution_count": null,
   "id": "20923764-27f8-4062-8202-d97399264f0f",
   "metadata": {
    "tags": []
   },
   "outputs": [],
   "source": [
    "# import data \n",
    "data = pd.read_csv(\"../data/Heart_Attack.csv\")\n",
    "data.head()"
   ]
  },
  {
   "cell_type": "markdown",
   "id": "b8b94c24-f0c7-4d02-9ead-1b942baea0ac",
   "metadata": {},
   "source": [
    "## Univariate Plots"
   ]
  },
  {
   "cell_type": "markdown",
   "id": "96ba42b5-b942-4dbc-b23d-ab9363675080",
   "metadata": {
    "tags": []
   },
   "source": [
    "In this lecture we will look at three techniques that you can use to understand each attribute of your dataset independently.\n",
    "- Histograms.\n",
    "- Density Plots.\n",
    "- Box and Whisker Plots."
   ]
  },
  {
   "cell_type": "markdown",
   "id": "21ddadba-df5d-447b-b490-336b657fc49c",
   "metadata": {},
   "source": [
    "### Histograms\n",
    "A fast way to get an idea of the distribution of each attribute is to look at histograms. Histograms group data into bins and provide you a count of the number of observations in each bin. From the shape of the bins you can quickly get a feeling for whether an attribute is Gaussian, skewed or even has an exponential distribution. It can also help you see possible outliers."
   ]
  },
  {
   "cell_type": "code",
   "execution_count": null,
   "id": "ae0b0017-8f65-45a3-a1d0-b847f8109520",
   "metadata": {
    "tags": []
   },
   "outputs": [],
   "source": [
    "# Univariate distributions with histogram\n",
    "data.select_dtypes(exclude = \"object\").hist(figsize=(20,10), edgecolor='black')\n",
    "plt.show() "
   ]
  },
  {
   "cell_type": "markdown",
   "id": "cf036546-15d6-4b09-a5c4-cae7f4872dbd",
   "metadata": {},
   "source": [
    "### Density Plots"
   ]
  },
  {
   "cell_type": "code",
   "execution_count": null,
   "id": "d0d94b3b-8b15-4ebc-a057-915bcd1f9d3e",
   "metadata": {},
   "outputs": [],
   "source": [
    "# Univariate distributions with density plot \n",
    "data.select_dtypes(exclude = \"object\").plot(kind='density', subplots=True, sharex=False, figsize=(20,10), layout=(4,3))\n",
    "plt.show() "
   ]
  },
  {
   "cell_type": "markdown",
   "id": "d149110a-f9c7-47a6-a770-60394f43d9bd",
   "metadata": {},
   "source": [
    "### Box and Whisker Plots "
   ]
  },
  {
   "cell_type": "code",
   "execution_count": null,
   "id": "34ab38d9-5648-4473-8358-668d995cc425",
   "metadata": {},
   "outputs": [],
   "source": [
    "# Univariate distributions with box plots \n",
    "data.select_dtypes(exclude = \"object\").plot(kind='box', subplots=True, sharex=False, figsize=(20,10), layout=(4,3))\n",
    "plt.show() "
   ]
  },
  {
   "cell_type": "markdown",
   "id": "5160f715-7358-42bd-aac6-098a2ea8ae20",
   "metadata": {},
   "source": [
    "## Multivariate Plots\n",
    "\n",
    "This section provides examples of two plots that show the interactions between multiple variables in your dataset.\n",
    "- Correlation Matrix Plot.\n",
    "- Scatter Plot Matrix.\n"
   ]
  },
  {
   "cell_type": "markdown",
   "id": "3c880c7f-20ab-473a-9819-6755f760a07d",
   "metadata": {},
   "source": [
    "### Correlation Matrix Plot\n",
    "Correlation gives an indication of how related the changes are between two variables. If two variables change in the same direction they are positively correlated. If they change in opposite directions together (one goes up, one goes down), then they are negatively correlated. You can calculate the correlation between each pair of attributes. This is called a correlation matrix. You can then plot the correlation matrix and get an idea of which variables have a high correlation with each other. This is useful to know, because some machine learning algorithms like linear and logistic regression can have poor performance if there are highly correlated input variables in your data.\n"
   ]
  },
  {
   "cell_type": "code",
   "execution_count": null,
   "id": "f6691f95-5e32-4441-a03f-1b4c1b752afc",
   "metadata": {},
   "outputs": [],
   "source": [
    "# Multivariate plots with correlations \n",
    "plt.figure(figsize=(10,6))\n",
    "num_cols = data.select_dtypes(exclude = \"object\")\n",
    "corr = num_cols.corr() \n",
    "sns.heatmap(corr, annot=True)\n",
    "plt.show()"
   ]
  },
  {
   "cell_type": "markdown",
   "id": "e3dbc089-6841-4b60-95b1-aa633ac75d8c",
   "metadata": {},
   "source": [
    "We can see that the matrix is symmetrical, i.e. the bottom left of the matrix is the same as the top right. This is useful as we can see two different views on the same data in one plot. We can also see that each variable is perfectly positively correlated with each other (as you would have expected) in the diagonal line from top left to bottom right.\n"
   ]
  },
  {
   "cell_type": "markdown",
   "id": "4618755d-40f2-4f54-918c-e41284b908ab",
   "metadata": {},
   "source": [
    "### Scatter Plot Matrix\n",
    "A scatter plot shows the relationship between two variables as dots in two dimensions, one axis for each attribute. You can create a scatter plot for each pair of attributes in your data. Drawing all these scatter plots together is called a scatter plot matrix. Scatter plots are useful for spotting structured relationships between variables, like whether you could summarize the relationship between two variables with a line. Attributes with structured relationships may also be correlated and good candidates for removal from your dataset."
   ]
  },
  {
   "cell_type": "code",
   "execution_count": null,
   "id": "49426cba-82ec-48ba-9cd5-c91ab27453aa",
   "metadata": {
    "tags": []
   },
   "outputs": [],
   "source": [
    "# Scatterplot Matrix\n",
    "sns.pairplot(data)"
   ]
  },
  {
   "cell_type": "markdown",
   "id": "d7591ac1-d2d6-4df9-811b-f44a38bd2c8d",
   "metadata": {},
   "source": [
    "Like the Correlation Matrix Plot above, the scatter plot matrix is symmetrical. This is useful to look at the pairwise relationships from different perspectives. Because there is little\n",
    "point of drawing a scatter plot of each variable with itself, the diagonal shows histograms of each attribute.\n"
   ]
  },
  {
   "cell_type": "markdown",
   "id": "c4a2bf52-a8e9-4fb8-98fa-762e77a8a702",
   "metadata": {},
   "source": [
    "## Summary\n",
    "In this lecture you discovered a number of ways that you can better understand your machine learning data in Python using Pandas. Specifically, you learned how to plot your data using:\n",
    "- Histograms.\n",
    "- Density Plots.\n",
    "- Box and Whisker Plots.\n",
    "- Correlation Matrix Plot.\n",
    "- Scatter Plot Matrix.\n"
   ]
  }
 ],
 "metadata": {
  "kernelspec": {
   "display_name": "Python 3 (ipykernel)",
   "language": "python",
   "name": "python3"
  },
  "language_info": {
   "codemirror_mode": {
    "name": "ipython",
    "version": 3
   },
   "file_extension": ".py",
   "mimetype": "text/x-python",
   "name": "python",
   "nbconvert_exporter": "python",
   "pygments_lexer": "ipython3",
   "version": "3.11.5"
  }
 },
 "nbformat": 4,
 "nbformat_minor": 5
}
