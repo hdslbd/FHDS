{
 "cells": [
  {
   "cell_type": "markdown",
   "id": "88dc83e1-714b-401d-ae83-6a16519b2a11",
   "metadata": {},
   "source": [
    "# Understand Your Data With Descriptive Statistics "
   ]
  },
  {
   "cell_type": "markdown",
   "id": "1433fcd1-de9f-43d6-8cb6-b2f4ee7f00ce",
   "metadata": {},
   "source": [
    "You must understand your data in order to get the best results. In this lecture you will discover 7 recipes that you can use in Python to better understand your machine learning data. After reading this lesson you will know how to: \n",
    "\n",
    "1. Take a peek at your raw data.\n",
    "2. Review the dimensions of your dataset.\n",
    "3. Review the data types of attributes in your data.\n",
    "4. Summarize the distribution of instances across classes in your dataset.\n",
    "5. Summarize your data using descriptive statistics.\n",
    "6. Understand the relationships in your data using correlations.\n",
    "7. Review the skew of the distributions of each attribute."
   ]
  },
  {
   "cell_type": "code",
   "execution_count": 1,
   "id": "8e16afb4-f2ef-4fc6-8d56-2f8fd9c8acec",
   "metadata": {
    "tags": []
   },
   "outputs": [],
   "source": [
    "# import packages \n",
    "import numpy as np \n",
    "import pandas as pd "
   ]
  },
  {
   "cell_type": "code",
   "execution_count": 2,
   "id": "24b10c46-2558-4481-ac44-4eb5da077ae4",
   "metadata": {
    "tags": []
   },
   "outputs": [],
   "source": [
    "# import data \n",
    "data = pd.read_csv(\"../data/Heart_Attack.csv\")"
   ]
  },
  {
   "cell_type": "markdown",
   "id": "30df10c2-036b-4262-8315-23bff44a521c",
   "metadata": {},
   "source": [
    "## Peek at Your Data\n",
    "There is no substitute for looking at the raw data. Looking at the raw data can reveal insights that you cannot get any other way. It can also plant seeds that may later grow into ideas on how to better pre-process and handle the data for machine learning tasks. You can review the first few rows of your data using the `head()` function on the Pandas `DataFrame`."
   ]
  },
  {
   "cell_type": "code",
   "execution_count": 3,
   "id": "c0ba7547-ea00-4b8b-971f-ef4f6e9e791d",
   "metadata": {
    "tags": []
   },
   "outputs": [
    {
     "data": {
      "text/html": [
       "<div>\n",
       "<style scoped>\n",
       "    .dataframe tbody tr th:only-of-type {\n",
       "        vertical-align: middle;\n",
       "    }\n",
       "\n",
       "    .dataframe tbody tr th {\n",
       "        vertical-align: top;\n",
       "    }\n",
       "\n",
       "    .dataframe thead th {\n",
       "        text-align: right;\n",
       "    }\n",
       "</style>\n",
       "<table border=\"1\" class=\"dataframe\">\n",
       "  <thead>\n",
       "    <tr style=\"text-align: right;\">\n",
       "      <th></th>\n",
       "      <th>Age</th>\n",
       "      <th>Gender</th>\n",
       "      <th>Heart rate</th>\n",
       "      <th>Systolic blood pressure</th>\n",
       "      <th>Diastolic blood pressure</th>\n",
       "      <th>Blood sugar</th>\n",
       "      <th>CK-MB</th>\n",
       "      <th>Troponin</th>\n",
       "      <th>Outcome</th>\n",
       "    </tr>\n",
       "  </thead>\n",
       "  <tbody>\n",
       "    <tr>\n",
       "      <th>0</th>\n",
       "      <td>64</td>\n",
       "      <td>Male</td>\n",
       "      <td>66.0</td>\n",
       "      <td>160.0</td>\n",
       "      <td>83.0</td>\n",
       "      <td>160.0</td>\n",
       "      <td>1.80</td>\n",
       "      <td>0.012</td>\n",
       "      <td>Negative</td>\n",
       "    </tr>\n",
       "    <tr>\n",
       "      <th>1</th>\n",
       "      <td>21</td>\n",
       "      <td>Male</td>\n",
       "      <td>94.0</td>\n",
       "      <td>98.0</td>\n",
       "      <td>46.0</td>\n",
       "      <td>296.0</td>\n",
       "      <td>6.75</td>\n",
       "      <td>1.060</td>\n",
       "      <td>Positive</td>\n",
       "    </tr>\n",
       "    <tr>\n",
       "      <th>2</th>\n",
       "      <td>55</td>\n",
       "      <td>Male</td>\n",
       "      <td>64.0</td>\n",
       "      <td>160.0</td>\n",
       "      <td>77.0</td>\n",
       "      <td>270.0</td>\n",
       "      <td>1.99</td>\n",
       "      <td>0.003</td>\n",
       "      <td>Negative</td>\n",
       "    </tr>\n",
       "    <tr>\n",
       "      <th>3</th>\n",
       "      <td>64</td>\n",
       "      <td>Male</td>\n",
       "      <td>NaN</td>\n",
       "      <td>120.0</td>\n",
       "      <td>55.0</td>\n",
       "      <td>270.0</td>\n",
       "      <td>13.87</td>\n",
       "      <td>0.122</td>\n",
       "      <td>Positive</td>\n",
       "    </tr>\n",
       "    <tr>\n",
       "      <th>4</th>\n",
       "      <td>55</td>\n",
       "      <td>Male</td>\n",
       "      <td>64.0</td>\n",
       "      <td>112.0</td>\n",
       "      <td>65.0</td>\n",
       "      <td>300.0</td>\n",
       "      <td>1.08</td>\n",
       "      <td>0.003</td>\n",
       "      <td>Negative</td>\n",
       "    </tr>\n",
       "  </tbody>\n",
       "</table>\n",
       "</div>"
      ],
      "text/plain": [
       "   Age Gender  Heart rate  Systolic blood pressure  Diastolic blood pressure  \\\n",
       "0   64   Male        66.0                    160.0                      83.0   \n",
       "1   21   Male        94.0                     98.0                      46.0   \n",
       "2   55   Male        64.0                    160.0                      77.0   \n",
       "3   64   Male         NaN                    120.0                      55.0   \n",
       "4   55   Male        64.0                    112.0                      65.0   \n",
       "\n",
       "   Blood sugar  CK-MB  Troponin   Outcome  \n",
       "0        160.0   1.80     0.012  Negative  \n",
       "1        296.0   6.75     1.060  Positive  \n",
       "2        270.0   1.99     0.003  Negative  \n",
       "3        270.0  13.87     0.122  Positive  \n",
       "4        300.0   1.08     0.003  Negative  "
      ]
     },
     "execution_count": 3,
     "metadata": {},
     "output_type": "execute_result"
    }
   ],
   "source": [
    "data.head()"
   ]
  },
  {
   "cell_type": "markdown",
   "id": "24c2c85b-b781-4d44-8f8c-146a0ef78fd0",
   "metadata": {},
   "source": [
    "## Dimensions of Your Data\n",
    "You must have a very good handle on how much data you have, both in terms of rows and columns.\n",
    "\n",
    "- Too many rows and algorithms may take too long to train. Too few and perhaps you do not have enough data to train the algorithms.\n",
    "- Too many features and some algorithms can be distracted or suffer poor performance due to the curse of dimensionality.\n",
    "\n",
    "You can review the shape and `size` of your dataset by printing the shape property on the Pandas `DataFrame`.\n",
    "\n"
   ]
  },
  {
   "cell_type": "code",
   "execution_count": null,
   "id": "b2020643-0ce9-4621-bc03-c8b02523a3f9",
   "metadata": {
    "tags": []
   },
   "outputs": [],
   "source": [
    "data.shape"
   ]
  },
  {
   "cell_type": "markdown",
   "id": "aaac882c-e449-4baf-9980-c6ef6ef6c834",
   "metadata": {},
   "source": [
    "The results are listed in rows then columns. You can see that the dataset has 1000 rows and 14 columns."
   ]
  },
  {
   "cell_type": "markdown",
   "id": "ffbe2980-5858-418a-8b13-6a5cac4eb9cd",
   "metadata": {},
   "source": [
    "## Data Type For Each Attribute\n",
    "The type of each attribute is important. `Strings` may need to be converted to `floating` point values or integers to represent `categorical` or `ordinal` values. You can get an idea of the types of attributes by peeking at the raw data, as above. You can also list the data types used by the DataFrame to characterize each attribute using the dtypes property."
   ]
  },
  {
   "cell_type": "code",
   "execution_count": null,
   "id": "4b7722ed-834b-43d9-88f2-09b71809cd4a",
   "metadata": {
    "tags": []
   },
   "outputs": [],
   "source": [
    "data.dtypes"
   ]
  },
  {
   "cell_type": "code",
   "execution_count": null,
   "id": "b87a92b6-2638-435c-8d9e-6a9e8e97f05b",
   "metadata": {
    "tags": []
   },
   "outputs": [],
   "source": [
    "# select numeric variables \n",
    "num_df = data.select_dtypes(exclude = 'object')\n",
    "num_df.head()"
   ]
  },
  {
   "cell_type": "code",
   "execution_count": null,
   "id": "a709bb5d-a2c6-42d2-8fb2-cec32146efdc",
   "metadata": {
    "tags": []
   },
   "outputs": [],
   "source": [
    "# select categorical variables \n",
    "cat_df = data.select_dtypes(include = 'object')\n",
    "cat_df.head()"
   ]
  },
  {
   "cell_type": "markdown",
   "id": "94a97d05-3967-4f8c-a4b3-34ead30254bb",
   "metadata": {},
   "source": [
    "## Descriptive Statistics\n",
    "Descriptive statistics can give you great insight into the shape of each attribute. Often you can create more summaries than you have time to review. The `describe()` function on the Pandas\n",
    "\n",
    "DataFrame lists 8 statistical properties of each attribute. They are:\n",
    "- Count.\n",
    "- Mean.\n",
    "- Standard Deviation.\n",
    "- Minimum Value.\n",
    "- 25th Percentile.\n",
    "- 50th Percentile (Median).\n",
    "- 75th Percentile.\n",
    "- Maximum Value.\n"
   ]
  },
  {
   "cell_type": "code",
   "execution_count": null,
   "id": "c0d6e63a-e786-4591-82cd-6fb493c3a5ca",
   "metadata": {
    "tags": []
   },
   "outputs": [],
   "source": [
    "num_df.describe()"
   ]
  },
  {
   "cell_type": "code",
   "execution_count": null,
   "id": "06479faa-1579-4d03-848a-a7162ebda9d3",
   "metadata": {
    "tags": []
   },
   "outputs": [],
   "source": [
    "cat_df.describe()"
   ]
  },
  {
   "cell_type": "markdown",
   "id": "47bac83c-ce9d-48d4-a853-97792b67ee30",
   "metadata": {},
   "source": [
    "## Class Distribution (Classification Only)\n",
    "On classification problems you need to know how balanced the class values are. Highly imbalanced problems (a lot more observations for one class than another) are common and may need special handling in the data preparation stage of your project. You can quickly get an idea of the distribution of the class attribute in Pandas.\n"
   ]
  },
  {
   "cell_type": "code",
   "execution_count": null,
   "id": "8bfb9777-8cb0-446c-86b0-ab2127fa3ab3",
   "metadata": {
    "tags": []
   },
   "outputs": [],
   "source": [
    "data.groupby('Outcome').size()"
   ]
  },
  {
   "cell_type": "markdown",
   "id": "4b6c72a2-8963-45ff-b236-6eb6aab56559",
   "metadata": {},
   "source": [
    "You can see that there are nearly double the number of observations with class 0 (no onset of caridiovascular disease) than there are with class 1 (onset of caridiovascular disease).\n"
   ]
  },
  {
   "cell_type": "markdown",
   "id": "39fde3dc-39c1-420b-8e00-35d3e9ceb4a8",
   "metadata": {
    "tags": []
   },
   "source": [
    "## Correlations Between Attributes\n",
    "Correlation refers to the relationship between two variables and how they may or may not change together. The most common method for calculating correlation is Pearson’s Correlation Coefficient, that assumes a normal distribution of the attributes involved. A correlation of -1 or 1 shows a full negative or positive correlation respectively. Whereas a value of 0 shows no correlation at all. Some machine learning algorithms like linear and logistic regression can suffer poor performance if there are highly correlated attributes in your dataset. As such, it is a good idea to review all of the pairwise correlations of the attributes in your dataset. You can use the `corr()` function on the Pandas DataFrame to calculate a correlation matrix."
   ]
  },
  {
   "cell_type": "code",
   "execution_count": null,
   "id": "da23b4a8-5a23-436f-ad9b-606740ae2ee4",
   "metadata": {
    "tags": []
   },
   "outputs": [],
   "source": [
    "# correlation: Pearson’s by default \n",
    "num_df.corr(method=\"pearson\")"
   ]
  },
  {
   "cell_type": "markdown",
   "id": "a3f5246f-9d9d-406e-85a1-e65b5d90a7e9",
   "metadata": {},
   "source": [
    "The matrix lists all attributes across the top and down the side, to give correlation between all pairs of attributes (twice, because the matrix is symmetrical). You can see the diagonal line through the matrix from the top left to bottom right corners of the matrix shows perfect correlation of each attribute with itself."
   ]
  },
  {
   "cell_type": "markdown",
   "id": "47de2629-d0d5-47a8-a697-7f87443944f0",
   "metadata": {},
   "source": [
    "## Skew of Univariate Distributions\n",
    "Skew refers to a distribution that is assumed Gaussian (normal or bell curve) that is shifted or squashed in one direction or another. Many machine learning algorithms assume a Gaussian distribution. Knowing that an attribute has a skew may allow you to perform data preparation\n",
    "to correct the skew and later improve the accuracy of your models. You can calculate the skew of each attribute using the `skew()` function on the Pandas DataFrame."
   ]
  },
  {
   "cell_type": "code",
   "execution_count": null,
   "id": "5bec3632-7626-4a64-8b92-b50c251ff952",
   "metadata": {
    "tags": []
   },
   "outputs": [],
   "source": [
    "num_df.skew()"
   ]
  },
  {
   "cell_type": "markdown",
   "id": "03f29c12-1fcd-4656-99c5-9d6f694c5f96",
   "metadata": {},
   "source": [
    "The skew result show a positive (right) or negative (left) skew. Values closer to zero show less skew."
   ]
  },
  {
   "cell_type": "markdown",
   "id": "b9af5130-3b90-4ea5-a28b-47a09bc38444",
   "metadata": {},
   "source": [
    "##  Tips To Remember\n",
    "This section gives you some tips to remember when reviewing your data using summary statistics.\n",
    "- Review the numbers. Generating the summary statistics is not enough. Take a moment to pause, read and really think about the numbers you are seeing.\n",
    "\n",
    "- Ask why. Review your numbers and ask a lot of questions. How and why are you seeing specific numbers. Think about how the numbers relate to the problem domain in general and specific entities that observations relate to.\n",
    "\n",
    "- Write down ideas. Write down your observations and ideas. Keep a small text file or note pad and jot down all of the ideas for how variables may relate, for what numbers mean, and ideas for techniques to try later. The things you write down now while the data is fresh will be very valuable later when you are trying to think up new things to try.\n"
   ]
  },
  {
   "cell_type": "markdown",
   "id": "7a00062c-b48f-413f-a813-694bcbe23ed0",
   "metadata": {},
   "source": [
    "## Summary"
   ]
  },
  {
   "cell_type": "markdown",
   "id": "e89af419-0fdb-4de8-932a-ae358b3917a5",
   "metadata": {},
   "source": [
    "In this lecture you discovered the importance of describing your dataset before you start work on your machine learning project. You discovered 7 different ways to summarize your dataset using Python and Pandas:\n",
    "\n",
    "- Peek At Your Data.\n",
    "- Dimensions of Your Data.\n",
    "- Data Types.\n",
    "- Class Distribution.\n",
    "- Data Summary.\n",
    "- Correlations.\n",
    "- Skewness."
   ]
  }
 ],
 "metadata": {
  "kernelspec": {
   "display_name": "Python 3 (ipykernel)",
   "language": "python",
   "name": "python3"
  },
  "language_info": {
   "codemirror_mode": {
    "name": "ipython",
    "version": 3
   },
   "file_extension": ".py",
   "mimetype": "text/x-python",
   "name": "python",
   "nbconvert_exporter": "python",
   "pygments_lexer": "ipython3",
   "version": "3.11.5"
  }
 },
 "nbformat": 4,
 "nbformat_minor": 5
}
