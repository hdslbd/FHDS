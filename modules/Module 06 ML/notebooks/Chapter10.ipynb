{
 "cells": [
  {
   "cell_type": "markdown",
   "id": "07bab908-e6f1-4133-8ff9-8cb865b76253",
   "metadata": {},
   "source": [
    "# Machine Learning Algorithm Performance Metrics"
   ]
  },
  {
   "cell_type": "code",
   "execution_count": null,
   "id": "e8d9cbdb-9780-4a49-8869-c61f2d73a4de",
   "metadata": {},
   "outputs": [],
   "source": []
  }
 ],
 "metadata": {
  "kernelspec": {
   "display_name": "Python 3 (ipykernel)",
   "language": "python",
   "name": "python3"
  },
  "language_info": {
   "codemirror_mode": {
    "name": "ipython",
    "version": 3
   },
   "file_extension": ".py",
   "mimetype": "text/x-python",
   "name": "python",
   "nbconvert_exporter": "python",
   "pygments_lexer": "ipython3",
   "version": "3.11.5"
  }
 },
 "nbformat": 4,
 "nbformat_minor": 5
}
