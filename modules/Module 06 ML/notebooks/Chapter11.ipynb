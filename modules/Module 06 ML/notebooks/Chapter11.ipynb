{
 "cells": [
  {
   "cell_type": "markdown",
   "id": "6fe8e2cd-894f-4527-a57f-5cdc10c43e90",
   "metadata": {
    "tags": []
   },
   "source": [
    "# Spot-Check Classification Algorithms"
   ]
  },
  {
   "cell_type": "code",
   "execution_count": null,
   "id": "145e4a7d-118b-429e-81eb-5431ccc38a37",
   "metadata": {},
   "outputs": [],
   "source": []
  }
 ],
 "metadata": {
  "kernelspec": {
   "display_name": "Python 3 (ipykernel)",
   "language": "python",
   "name": "python3"
  },
  "language_info": {
   "codemirror_mode": {
    "name": "ipython",
    "version": 3
   },
   "file_extension": ".py",
   "mimetype": "text/x-python",
   "name": "python",
   "nbconvert_exporter": "python",
   "pygments_lexer": "ipython3",
   "version": "3.11.5"
  }
 },
 "nbformat": 4,
 "nbformat_minor": 5
}
