{
 "cells": [
  {
   "cell_type": "markdown",
   "metadata": {},
   "source": [
    "# Python for Health Data Science (PY4HDS) - OOP \n",
    "*Lectured by [Md. Jubayer Hossain](https://hossainlab.github.io/) | Course  & Materials Designed by [Md. Jubayer Hossain](https://hossainlab.github.io/)*\n",
    "\n",
    "## Topics: OOP\n",
    "- Python Class\n",
    "- Python Inheritance/object\n",
    "- Multiple Inheritance\n",
    "- Operator Overloading"
   ]
  },
  {
   "cell_type": "markdown",
   "metadata": {},
   "source": [
    "### Class and Object "
   ]
  },
  {
   "cell_type": "code",
   "execution_count": 4,
   "metadata": {},
   "outputs": [
    {
     "data": {
      "text/plain": [
       "__main__.Car"
      ]
     },
     "execution_count": 4,
     "metadata": {},
     "output_type": "execute_result"
    }
   ],
   "source": [
    "class Car:\n",
    "    def __init__(self, make, model):\n",
    "        self.make = make\n",
    "        self.model = model\n",
    "\n",
    "my_car = Car(\"Toyota\", \"Camry\")"
   ]
  },
  {
   "cell_type": "markdown",
   "metadata": {},
   "source": [
    "- **Class (Car)**: Defines a blueprint for a `Car` with `attributes` (make and model) and an `__init__` `method` for initialization.\n",
    "\n",
    "- **Object (my_car)**: Creates an `instance` of the `Car class` with the values `\"Toyota\" and \"Camry\"` for make and `model attributes`."
   ]
  },
  {
   "cell_type": "markdown",
   "metadata": {},
   "source": [
    "### Class with Method"
   ]
  },
  {
   "cell_type": "code",
   "execution_count": 6,
   "metadata": {},
   "outputs": [
    {
     "name": "stdout",
     "output_type": "stream",
     "text": [
      "Made by Toyota, model: Camry\n"
     ]
    }
   ],
   "source": [
    "class Car:\n",
    "    def __init__(self, make, model):\n",
    "        self.make = make\n",
    "        self.model = model\n",
    "\n",
    "    def display_info(self):\n",
    "        print(f\"Made by {self.make}, model: {self.model}\")\n",
    "\n",
    "my_car = Car(\"Toyota\", \"Camry\")\n",
    "my_car.display_info()"
   ]
  },
  {
   "cell_type": "markdown",
   "metadata": {},
   "source": [
    "- **`Method` (display_info)**: Adds a `method` to the Car `class` that displays information about the car.\n",
    "\n",
    "- **`Method Invocation` (my_car.display_info())**: Calls the `display_infomethod` on `themy_car` object to print the car information."
   ]
  },
  {
   "cell_type": "markdown",
   "metadata": {},
   "source": [
    "### Inheritance"
   ]
  },
  {
   "cell_type": "code",
   "execution_count": null,
   "metadata": {},
   "outputs": [],
   "source": [
    "class ElectricCar(Car):\n",
    "    def __init__(self, make, model, battery_capacity):\n",
    "        super().__init__(make, model)\n",
    "        self.battery_capacity = battery_capacity"
   ]
  },
  {
   "cell_type": "markdown",
   "metadata": {},
   "source": [
    "- **Inheritance (ElectricCar(Car)):** Creates a `subclass` ElectricCar that inherits from the `Car class`.\n",
    "\n",
    "- **Constructor (__init__)**: Calls the `constructor` of the `superclass (super().__init__(make, model))` and adds a new `attribute (battery_capacity)`."
   ]
  },
  {
   "cell_type": "markdown",
   "metadata": {},
   "source": [
    "### Encapsulation"
   ]
  },
  {
   "cell_type": "code",
   "execution_count": null,
   "metadata": {},
   "outputs": [],
   "source": [
    "class BankAccount:\n",
    "    def __init__(self, balance):\n",
    "        self.__balance = balance\n",
    "\n",
    "    def get_balance(self):\n",
    "        return self.__balance\n",
    "\n",
    "    def deposit(self, amount):\n",
    "        self.__balance += amount\n",
    "\n",
    "    def withdraw(self, amount):\n",
    "        if amount <= self.__balance:\n",
    "            self.__balance -= amount\n",
    "        else:\n",
    "            print(\"Insufficient funds.\")"
   ]
  },
  {
   "cell_type": "markdown",
   "metadata": {},
   "source": [
    "- **Encapsulation (self.__balance)**: Uses `private attribute` `__balance` to encapsulate the internal state.\n",
    "- **Getter Method (get_balance)**: Provides a method to access the `private attribute (get_balance)`.\n",
    "- **Setter Methods (deposit and withdraw)**: Allows controlled modification of the private attribute."
   ]
  },
  {
   "cell_type": "markdown",
   "metadata": {},
   "source": [
    "### Polymorphism"
   ]
  },
  {
   "cell_type": "code",
   "execution_count": null,
   "metadata": {},
   "outputs": [],
   "source": [
    "class Shape:\n",
    "    def area(self):\n",
    "        pass\n",
    "\n",
    "class Circle(Shape):\n",
    "    def __init__(self, radius):\n",
    "        self.radius = radius\n",
    "\n",
    "    def area(self):\n",
    "        return 3.14 * self.radius * self.radius\n",
    "\n",
    "class Rectangle(Shape):\n",
    "    def __init__(self, length, width):\n",
    "        self.length = length\n",
    "        self.width = width\n",
    "\n",
    "    def area(self):\n",
    "        return self.length * self.width"
   ]
  },
  {
   "cell_type": "markdown",
   "metadata": {},
   "source": [
    "- **Polymorphism (area method)**: Defines a `common method area` in the `base class Shape`.\n",
    "- **Method Overriding (area in Circle and Rectangle)**: `Subclasses` Circle and Rectangle `provide their own implementation of the area method`."
   ]
  },
  {
   "cell_type": "code",
   "execution_count": null,
   "metadata": {},
   "outputs": [],
   "source": []
  },
  {
   "cell_type": "code",
   "execution_count": 1,
   "metadata": {},
   "outputs": [],
   "source": [
    "class Employee: \n",
    "    pass   "
   ]
  },
  {
   "cell_type": "markdown",
   "metadata": {},
   "source": [
    "- The `pass statement` is used as a placeholder inside the class body\n",
    "- `class Employee`: Declares a new class named `Employee`.\n",
    "- `pass`: The `pass statement` is a placeholder in Python that does nothing."
   ]
  },
  {
   "cell_type": "code",
   "execution_count": 2,
   "metadata": {},
   "outputs": [],
   "source": [
    "# create instance/object \n",
    "emp1 = Employee() \n",
    "emp2 = Employee() "
   ]
  },
  {
   "cell_type": "markdown",
   "metadata": {},
   "source": [
    "- Here code creates two instances of the `Employee` class, `emp1 and emp2`.\n",
    "- `Employee` class as defined does not have an explicit constructor `(__init__ method)` to initialize any attributes.\n",
    "\n",
    "- `emp1 = Employee()`: Creates an instance of the Employee class and assigns it to the variable `emp1`. This instance is created using the default `constructor` since there is no explicit `__init__` method in the `Employee class`.\n",
    "\n",
    "- `emp2 = Employee()`: Creates another instance of the Employee `class` and assigns it to the variable `emp2`. Like `emp1`, this instance is also created using the default `constructor`."
   ]
  },
  {
   "cell_type": "code",
   "execution_count": 3,
   "metadata": {},
   "outputs": [
    {
     "name": "stdout",
     "output_type": "stream",
     "text": [
      "<__main__.Employee object at 0x7f66b0f55f70>\n",
      "<__main__.Employee object at 0x7f66b0f55640>\n"
     ]
    }
   ],
   "source": [
    "# print the instances: they are unique  \n",
    "print(emp1)\n",
    "print(emp2)"
   ]
  },
  {
   "cell_type": "code",
   "execution_count": 4,
   "metadata": {},
   "outputs": [],
   "source": [
    "# set data \n",
    "emp1.firstname = 'Jon'\n",
    "emp1.lastname = 'Doe'\n",
    "emp1.email = 'jon.doe@gmail.com'\n",
    "\n",
    "emp2.firstname = 'Jan'\n",
    "emp2.lastname = 'Doe'\n",
    "emp2.email = 'jan.doe@gmail.com'"
   ]
  },
  {
   "cell_type": "markdown",
   "metadata": {},
   "source": [
    "- (firstname, lastname, and email) to two instances (emp1 and emp2) of the Employee class. \n",
    "\n",
    "- For `emp1`:\n",
    "    - `emp1.firstname` = 'Jon': Assigns the value 'Jon' to the firstname attribute of the emp1 instance.\n",
    "    - `emp1.lastname` = 'Doe': Assigns the value 'Doe' to the lastname attribute of the emp1 instance.\n",
    "    - `emp1.email` = 'jon.doe@gmail.com': Assigns the value 'jon.doe@gmail.com' to the email attribute of the emp1 instance.\n",
    "\n",
    "- For `emp2`:\n",
    "    - `emp2.firstname` = 'Jan': Assigns the value 'Jan' to the firstname attribute of the emp2 instance.\n",
    "    - `emp2.lastname` = 'Doe': Assigns the value 'Doe' to the lastname attribute of the emp2 instance.\n",
    "    - `emp2.email` = 'jan.doe@gmail.com': Assigns the value 'jan.doe@gmail.com' to the email attribute of the emp2 instance."
   ]
  },
  {
   "cell_type": "code",
   "execution_count": 5,
   "metadata": {},
   "outputs": [
    {
     "name": "stdout",
     "output_type": "stream",
     "text": [
      "jon.doe@gmail.com\n",
      "jan.doe@gmail.com\n"
     ]
    }
   ],
   "source": [
    "# print the attribute\n",
    "print(emp1.email)\n",
    "print(emp2.email)"
   ]
  },
  {
   "cell_type": "code",
   "execution_count": 11,
   "metadata": {},
   "outputs": [],
   "source": [
    "# define constructor \n",
    "class Employee: \n",
    "    def __init__(self, first, last, salary): \n",
    "        self.first = first \n",
    "        self.last = last \n",
    "        self.salary = salary \n",
    "        self.email = first + '.' + last +'@gmail.com' "
   ]
  },
  {
   "cell_type": "markdown",
   "metadata": {},
   "source": [
    "- Class named `Employee` with a `constructor (__init__ method)` to initialize attributes for representing employee information. \n",
    "\n",
    "- Class Definition (`class Employee`): Declares a class named `Employee`.\n",
    "\n",
    "- `Constructor (__init__ method)`: \n",
    "    - The `__init__` method is a special method in Python classes that is *automatically called when an instance of the class is created*.\n",
    "    - It takes four `parameters (self, first, last, and salary)`, where self refers to the instance being `created`, and `first`, `last`, and `salary` are the parameters used to initialize attributes.\n",
    "\n",
    "- `Attributes (self.first, self.last, self.salary, self.email)`:\n",
    "    - `self.first, self.last, and self.salary` are instance variables that store the first name, last name, and salary of the employee, respectively.\n",
    "    - `self.email` is an instance variable representing the employee's email address, constructed by concatenating the first name, a dot, the last name, and '@gmail.com'."
   ]
  },
  {
   "cell_type": "code",
   "execution_count": 12,
   "metadata": {},
   "outputs": [],
   "source": [
    "# create object and pass data \n",
    "emp1 = Employee('John', 'Doe', 5000)\n",
    "emp2 = Employee('Jan', 'Doe', 6000)"
   ]
  },
  {
   "cell_type": "code",
   "execution_count": 13,
   "metadata": {},
   "outputs": [
    {
     "name": "stdout",
     "output_type": "stream",
     "text": [
      "John.Doe@gmail.com\n",
      "Jan.Doe@gmail.com\n"
     ]
    }
   ],
   "source": [
    "# print attributes \n",
    "print(emp1.email)\n",
    "print(emp2.email)"
   ]
  },
  {
   "cell_type": "code",
   "execution_count": 14,
   "metadata": {},
   "outputs": [
    {
     "name": "stdout",
     "output_type": "stream",
     "text": [
      "John Doe\n"
     ]
    }
   ],
   "source": [
    "# action/methods \n",
    "print(f'{emp1.first} {emp1.last}')"
   ]
  },
  {
   "cell_type": "markdown",
   "metadata": {},
   "source": [
    "- `print()` Function:\n",
    "The `print()` function is used to output text to the console.\n",
    "\n",
    "\n",
    "- Formatted String `(f-string)`:\n",
    "The string is prefixed with an 'f', indicating that it's an f-string. F-strings are a way to embed expressions inside string literals.\n",
    "\n",
    "- Expression Inside the `f-string`:\n",
    "{emp1.first} and {emp1.last} are expressions inside the f-string.\n",
    "They refer to the first and last attributes of the emp1 object, respectively.\n",
    "\n",
    "- Output:\n",
    "The `values` of *emp1.first* and *emp1.last* are inserted into the string at the corresponding positions."
   ]
  },
  {
   "cell_type": "code",
   "execution_count": 17,
   "metadata": {},
   "outputs": [],
   "source": [
    "class Employee: \n",
    "    def __init__(self, first, last, salary): \n",
    "        self.first = first \n",
    "        self.last = last \n",
    "        self.salary = salary \n",
    "        self.email = first + '.' + last +'@gmail.com' \n",
    "        \n",
    "    def fullname(self): \n",
    "        return f'{self.first} {self.last}'"
   ]
  },
  {
   "cell_type": "markdown",
   "metadata": {},
   "source": [
    "- Class Definition (class Employee):\n",
    "Declares a class named `Employee`.\n",
    "\n",
    "- Constructor (__init__ method):\n",
    "    - The `__init__` method is a special method that initializes the attributes of the class when an instance is created.\n",
    "    - Takes four parameters (self, first, last, and salary), where self is a reference to the instance being created.\n",
    "\n",
    "- Attributes (self.first, self.last, self.salary, self.email):\n",
    "    - self.first, self.last, and self.salary are `instance variables` storing the first name, last name, and salary of the employee.\n",
    "    - self.email is an instance variable representing the employee's email address, constructed by concatenating the first name, a dot, the last name, and '@gmail.com'.\n",
    "\n",
    "- Method (def fullname(self):):\n",
    "Defines a method named `fullname` that takes `self` as a parameter (referring to the instance) and returns a formatted string representing the full name of the employee."
   ]
  },
  {
   "cell_type": "code",
   "execution_count": 19,
   "metadata": {},
   "outputs": [],
   "source": [
    "s# create object and pass data \n",
    "emp1 = Employee('John', 'Doe', 5000)\n",
    "emp2 = Employee('Jan', 'Doe', 6000)"
   ]
  },
  {
   "cell_type": "code",
   "execution_count": 20,
   "metadata": {},
   "outputs": [
    {
     "name": "stdout",
     "output_type": "stream",
     "text": [
      "John Doe\n"
     ]
    }
   ],
   "source": [
    "print(emp1.fullname())"
   ]
  },
  {
   "cell_type": "code",
   "execution_count": 21,
   "metadata": {},
   "outputs": [],
   "source": [
    "class Employee: \n",
    "    def __init__(self, first, last, salary): \n",
    "        self.first = first \n",
    "        self.last = last \n",
    "        self.salary = salary \n",
    "        self.email = first + '.' + last +'@gmail.com' \n",
    "        \n",
    "    def fullname(): \n",
    "        return f'{self.first} {self.last}'"
   ]
  },
  {
   "cell_type": "code",
   "execution_count": 22,
   "metadata": {},
   "outputs": [],
   "source": [
    "# create object and pass data \n",
    "emp1 = Employee('John', 'Doe', 5000)\n",
    "emp2 = Employee('Jan', 'Doe', 6000)"
   ]
  },
  {
   "cell_type": "code",
   "execution_count": 24,
   "metadata": {},
   "outputs": [
    {
     "ename": "TypeError",
     "evalue": "fullname() takes 0 positional arguments but 1 was given",
     "output_type": "error",
     "traceback": [
      "\u001b[0;31m---------------------------------------------------------------------------\u001b[0m",
      "\u001b[0;31mTypeError\u001b[0m                                 Traceback (most recent call last)",
      "\u001b[0;32m<ipython-input-24-2d40ad35570c>\u001b[0m in \u001b[0;36m<module>\u001b[0;34m\u001b[0m\n\u001b[1;32m      1\u001b[0m \u001b[0;31m# automatically pass the instances\u001b[0m\u001b[0;34m\u001b[0m\u001b[0;34m\u001b[0m\u001b[0;34m\u001b[0m\u001b[0m\n\u001b[0;32m----> 2\u001b[0;31m \u001b[0mprint\u001b[0m\u001b[0;34m(\u001b[0m\u001b[0memp1\u001b[0m\u001b[0;34m.\u001b[0m\u001b[0mfullname\u001b[0m\u001b[0;34m(\u001b[0m\u001b[0;34m)\u001b[0m\u001b[0;34m)\u001b[0m\u001b[0;34m\u001b[0m\u001b[0;34m\u001b[0m\u001b[0m\n\u001b[0m",
      "\u001b[0;31mTypeError\u001b[0m: fullname() takes 0 positional arguments but 1 was given"
     ]
    }
   ],
   "source": [
    "# automatically pass the instances \n",
    "print(emp1.fullname())"
   ]
  },
  {
   "cell_type": "code",
   "execution_count": 28,
   "metadata": {},
   "outputs": [],
   "source": [
    "class Employee: \n",
    "    def __init__(self, first, last, salary): \n",
    "        self.first = first \n",
    "        self.last = last \n",
    "        self.salary = salary \n",
    "        self.email = first + '.' + last +'@gmail.com' \n",
    "        \n",
    "    def fullname(self): \n",
    "        return f'{self.first} {self.last}'"
   ]
  },
  {
   "cell_type": "code",
   "execution_count": 29,
   "metadata": {},
   "outputs": [],
   "source": [
    "# create object and pass data \n",
    "emp1 = Employee('John', 'Doe', 5000)\n",
    "emp2 = Employee('Jan', 'Doe', 6000)"
   ]
  },
  {
   "cell_type": "code",
   "execution_count": 32,
   "metadata": {},
   "outputs": [
    {
     "name": "stdout",
     "output_type": "stream",
     "text": [
      "John Doe\n"
     ]
    }
   ],
   "source": [
    "print(Employee.fullname(emp1))"
   ]
  },
  {
   "cell_type": "code",
   "execution_count": 33,
   "metadata": {},
   "outputs": [
    {
     "name": "stdout",
     "output_type": "stream",
     "text": [
      "John Doe\n"
     ]
    }
   ],
   "source": [
    "print(emp1.fullname())  "
   ]
  },
  {
   "cell_type": "markdown",
   "metadata": {},
   "source": [
    "## Class Variables "
   ]
  },
  {
   "cell_type": "code",
   "execution_count": 35,
   "metadata": {},
   "outputs": [],
   "source": [
    "class Employee: \n",
    "    raise_amount = 1.04 \n",
    "    def __init__(self, first, last, salary): \n",
    "        self.first = first \n",
    "        self.last = last \n",
    "        self.salary = salary \n",
    "        self.email = first + '.' + last +'@gmail.com' \n",
    "        \n",
    "    def fullname(self): \n",
    "        return f'{self.first} {self.last}'\n",
    "    \n",
    "    def apply_raise(self): \n",
    "        self.salary = int(self.salary * raise_amount)"
   ]
  },
  {
   "cell_type": "code",
   "execution_count": 39,
   "metadata": {},
   "outputs": [],
   "source": [
    "# create object and pass data \n",
    "emp1 = Employee('John', 'Doe', 5000)\n",
    "emp2 = Employee('Jan', 'Doe', 6000)"
   ]
  },
  {
   "cell_type": "code",
   "execution_count": 41,
   "metadata": {},
   "outputs": [
    {
     "name": "stdout",
     "output_type": "stream",
     "text": [
      "9200\n",
      "16928\n"
     ]
    }
   ],
   "source": [
    "print(emp1.salary)\n",
    "emp1.apply_raise()\n",
    "print(emp1.salary) "
   ]
  },
  {
   "cell_type": "markdown",
   "metadata": {},
   "source": [
    "### Python Overloading Object\n",
    "**Operator overloading** refers to the ability to define custom behaviors for standard operators that work on objects of your own classes.\n",
    "\n",
    "Some commonly used operator overloading methods:\n",
    "1. __add__(self, other)\n",
    "2. __eq__(self, other)\n",
    "3. __str__(self)\n"
   ]
  },
  {
   "cell_type": "code",
   "execution_count": null,
   "metadata": {},
   "outputs": [],
   "source": [
    "#add(self, other)\n",
    "#Defines the behavior of the + operator.\n",
    "class Point:\n",
    "    def __init__(self, x, y):\n",
    "        self.x = x\n",
    "        self.y = y\n",
    "\n",
    "    def __add__(self, other):\n",
    "        return Point(self.x + other.x, self.y + other.y)\n",
    "\n",
    "p1 = Point(1, 2)\n",
    "p2 = Point(3, 4)\n",
    "result = p1 + p2  # Calls p1.__add__(p2)\n",
    "print(result.x, result.y)  # Output: 4 6"
   ]
  },
  {
   "cell_type": "code",
   "execution_count": null,
   "metadata": {},
   "outputs": [],
   "source": [
    "#__eq__(self, other):\n",
    "#Defines the behavior of the == operator.\n",
    "class Point:\n",
    "    def __init__(self, x, y):\n",
    "        self.x = x\n",
    "        self.y = y\n",
    "\n",
    "    def __eq__(self, other):\n",
    "        return self.x == other.x and self.y == other.y\n",
    "\n",
    "p1 = Point(1, 2)\n",
    "p2 = Point(1, 2)\n",
    "print(p1 == p2)  # Calls p1.__eq__(p2), Output: True"
   ]
  },
  {
   "cell_type": "code",
   "execution_count": null,
   "metadata": {},
   "outputs": [],
   "source": [
    "#__str__(self):\n",
    "#Defines the behavior of str() and the print() function for an object.\n",
    "class Point:\n",
    "    def __init__(self, x, y):\n",
    "        self.x = x\n",
    "        self.y = y\n",
    "\n",
    "    def __str__(self):\n",
    "        return f\"Point({self.x}, {self.y})\"\n",
    "\n",
    "p = Point(1, 2)\n",
    "print(str(p))  # Calls p.__str__(), Output: Point(1, 2)"
   ]
  },
  {
   "cell_type": "markdown",
   "metadata": {},
   "source": [
    "*Copyright &copy; 2024  [Md. Jubayer Hossain](https://hossainlab.github.io/) &  [Center for Health Innovation, Research, Action and Learning - Bangladesh (CHIRAL Bangladesh) ](https://www.chiralbd.org/). All rights reserved*"
   ]
  }
 ],
 "metadata": {
  "kernelspec": {
   "display_name": "Python 3 (ipykernel)",
   "language": "python",
   "name": "python3"
  },
  "language_info": {
   "codemirror_mode": {
    "name": "ipython",
    "version": 3
   },
   "file_extension": ".py",
   "mimetype": "text/x-python",
   "name": "python",
   "nbconvert_exporter": "python",
   "pygments_lexer": "ipython3",
   "version": "3.9.12"
  },
  "latex_envs": {
   "LaTeX_envs_menu_present": true,
   "autoclose": false,
   "autocomplete": true,
   "bibliofile": "biblio.bib",
   "cite_by": "apalike",
   "current_citInitial": 1,
   "eqLabelWithNumbers": true,
   "eqNumInitial": 1,
   "hotkeys": {
    "equation": "Ctrl-E",
    "itemize": "Ctrl-I"
   },
   "labels_anchors": false,
   "latex_user_defs": false,
   "report_style_numbering": false,
   "user_envs_cfg": false
  },
  "widgets": {
   "application/vnd.jupyter.widget-state+json": {
    "state": {},
    "version_major": 2,
    "version_minor": 0
   }
  }
 },
 "nbformat": 4,
 "nbformat_minor": 4
}
