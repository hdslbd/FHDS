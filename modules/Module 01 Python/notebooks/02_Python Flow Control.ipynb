{
 "cells": [
  {
   "cell_type": "markdown",
   "id": "72cfc094",
   "metadata": {},
   "source": [
    "# Python for Health Data Science (PY4HDS) - Loops \n",
    "*Lectured by [Md. Jubayer Hossain](https://hossainlab.github.io/) | Course  & Materials Designed by [Md. Jubayer Hossain](https://hossainlab.github.io/)*"
   ]
  },
  {
   "cell_type": "markdown",
   "id": "c0db5b63",
   "metadata": {},
   "source": [
    "## Topics \n",
    "- `if...else`: Used to control the flow of a program based on a condition. It allows you to specify two blocks of code - one to be executed if the condition is `true`, and another to be executed if the condition is `false`.\n",
    "\n",
    "\n",
    "- `for` loop \n",
    "- `while` loop\n",
    "- `break and continue` statement\n",
    "- `Pass` statement   \n",
    "- `range()` function"
   ]
  },
  {
   "cell_type": "markdown",
   "id": "478e69db",
   "metadata": {},
   "source": [
    "## `if` Statement\n",
    "\n",
    "\n",
    "### Syntax \n",
    "```python\n",
    "if condition:\n",
    "    # body of if statement\n",
    "```\n",
    "- The `if` keyword \n",
    "- A Condition(that is an expression that evaluates True or False) \n",
    "- A colon \n",
    "- Starting on the next line, an **indented** block of code(called if clause) \n",
    "\n",
    "### Flowchart \n",
    "The `if` statement evaluates `condition`.\n",
    "\n",
    "* If `condition` is evaluated to `True`, the code inside the body of `if` is executed.\n",
    "* If `condition` is evaluated to `False`, the code inside the body of `if` is skipped.\n",
    "\n",
    "\n",
    "![img](../img/python-if.png)"
   ]
  },
  {
   "cell_type": "code",
   "execution_count": 5,
   "id": "a7986201",
   "metadata": {},
   "outputs": [
    {
     "name": "stdout",
     "output_type": "stream",
     "text": [
      "Smaller\n",
      "Inside if\n",
      "Outside if\n"
     ]
    }
   ],
   "source": [
    "# Example 1: Python if Statement\n",
    "x = 5 \n",
    "if x > 3:\n",
    "    print(\"Smaller\")\n",
    "    print(\"Inside if\")\n",
    "    \n",
    "print(\"Outside if\")"
   ]
  },
  {
   "cell_type": "markdown",
   "id": "b93e15e9",
   "metadata": {},
   "source": [
    "- x = 5: This line assigns the value 5 to the variable x.\n",
    "\n",
    "- if x > 3:: This is the beginning of the if statement. It checks whether the value of x is greater than 3. In this case, x is indeed greater than 3 (because x is 5), so the condition is True.\n",
    "\n",
    "- print(\"Smaller\"): Since the condition in the if statement is True, this line is executed. It prints \"Smaller\" to the console.\n",
    "\n",
    "- print(\"Inside if\"): This line is also executed because it is inside the same code block as the previous print statement. It prints \"Inside if\" to the console.\n",
    "\n",
    "- print(\"Outside if\"): This line is not indented and is outside the if block. It is not part of the if statement. Therefore, it will always be executed, regardless of whether the if condition is True or False. It prints \"Outside if\" to the console."
   ]
  },
  {
   "cell_type": "code",
   "execution_count": 6,
   "id": "c071fcf7",
   "metadata": {},
   "outputs": [
    {
     "name": "stdout",
     "output_type": "stream",
     "text": [
      "Larger\n",
      "End\n"
     ]
    }
   ],
   "source": [
    "# Example 2: Python if Statement\n",
    "if x < 3: \n",
    "    print(\"Smaller\") \n",
    "if x > 3: \n",
    "    print(\"Larger\") \n",
    "print(\"End\")"
   ]
  },
  {
   "cell_type": "markdown",
   "id": "401e4d23",
   "metadata": {},
   "source": [
    "## `else` Statement \n",
    "### Syntax \n",
    "```python\n",
    "if condition:\n",
    "    Body of if block \n",
    "else: \n",
    "    Body of else block \n",
    "    \n",
    "```\n",
    "- The `else` keyword \n",
    "- A colon \n",
    "- Starting on the next line, an **indented** block of code(called else clause) \n",
    "\n",
    "### Flowchart \n",
    "![img](../img/Python_if_else_statement.jpg)"
   ]
  },
  {
   "cell_type": "code",
   "execution_count": 7,
   "id": "ac804fe6",
   "metadata": {},
   "outputs": [
    {
     "name": "stdout",
     "output_type": "stream",
     "text": [
      "Negative\n"
     ]
    }
   ],
   "source": [
    "a = -10 \n",
    "if a > 0: \n",
    "    print(\"Positive\") \n",
    "else: \n",
    "    print(\"Negative\")"
   ]
  },
  {
   "cell_type": "code",
   "execution_count": 8,
   "id": "8b34b30e",
   "metadata": {},
   "outputs": [
    {
     "name": "stdout",
     "output_type": "stream",
     "text": [
      "Positive\n"
     ]
    }
   ],
   "source": [
    "a = 10 \n",
    "if a > 0: \n",
    "    print(\"Positive\") \n",
    "else: \n",
    "    print(\"Negative\")"
   ]
  },
  {
   "cell_type": "code",
   "execution_count": 10,
   "id": "ff7f4078",
   "metadata": {},
   "outputs": [
    {
     "name": "stdout",
     "output_type": "stream",
     "text": [
      "Negative\n"
     ]
    }
   ],
   "source": [
    "a = -3\n",
    "if a >= 0: \n",
    "    print(\"Positive\") \n",
    "else: \n",
    "    print(\"Negative\")"
   ]
  },
  {
   "cell_type": "markdown",
   "id": "e6ad7ae7",
   "metadata": {},
   "source": [
    "## `elif` Statement\n",
    "### Syntax \n",
    "```python\n",
    "if test expression:\n",
    "    Body of if\n",
    "elif test expression:\n",
    "    Body of elif\n",
    "else: \n",
    "    Body of else\n",
    "```\n",
    "- The `elif` keyword \n",
    "- A Condition(that is an expression that evaluates True or False) \n",
    "- A colon \n",
    "- Starting on the next line, an **indented** block of code(called elif clause) \n",
    "\n",
    "### Flowchart \n",
    "![img](../img/Python_if_elif_else_statement.jpg)"
   ]
  },
  {
   "cell_type": "code",
   "execution_count": 15,
   "id": "cbbb61b5",
   "metadata": {},
   "outputs": [
    {
     "name": "stdout",
     "output_type": "stream",
     "text": [
      "Obese\n"
     ]
    }
   ],
   "source": [
    "bmi = 20\n",
    "if bmi <= 18.5: \n",
    "    print(\"Unhealthy\")\n",
    "elif bmi >= 18.5 and bmi < 24.5: \n",
    "    print(\"Normal\")\n",
    "elif bmi >= 24.5 and  bmi < 30: \n",
    "    print(\"Healthy\") \n",
    "else: \n",
    "    print(\"Obese\")"
   ]
  },
  {
   "cell_type": "code",
   "execution_count": 20,
   "id": "d19feaa7",
   "metadata": {},
   "outputs": [
    {
     "name": "stdout",
     "output_type": "stream",
     "text": [
      "Enter a number: 10\n",
      "Even\n"
     ]
    }
   ],
   "source": [
    "# Even or Odd \n",
    "A = int(input(\"Enter a number: \"))\n",
    "\n",
    "if A % 2 == 0: \n",
    "    print(\"Even\")\n",
    "else: \n",
    "    print(\"Odd\")"
   ]
  },
  {
   "cell_type": "code",
   "execution_count": 16,
   "id": "ca0ab6f0",
   "metadata": {},
   "outputs": [
    {
     "data": {
      "text/plain": [
       "0"
      ]
     },
     "execution_count": 16,
     "metadata": {},
     "output_type": "execute_result"
    }
   ],
   "source": [
    "20 % 2 "
   ]
  },
  {
   "cell_type": "code",
   "execution_count": 17,
   "id": "29d8aa21",
   "metadata": {},
   "outputs": [
    {
     "data": {
      "text/plain": [
       "1"
      ]
     },
     "execution_count": 17,
     "metadata": {},
     "output_type": "execute_result"
    }
   ],
   "source": [
    "11 % 2 "
   ]
  },
  {
   "cell_type": "code",
   "execution_count": 19,
   "id": "64dd8771",
   "metadata": {},
   "outputs": [
    {
     "data": {
      "text/plain": [
       "1"
      ]
     },
     "execution_count": 19,
     "metadata": {},
     "output_type": "execute_result"
    }
   ],
   "source": [
    "25 % 2 "
   ]
  },
  {
   "cell_type": "markdown",
   "id": "d5cc90af",
   "metadata": {},
   "source": [
    "## Why Loops?"
   ]
  },
  {
   "cell_type": "code",
   "execution_count": 5,
   "id": "8ccff90d",
   "metadata": {},
   "outputs": [
    {
     "name": "stdout",
     "output_type": "stream",
     "text": [
      "Bangladesh!\n",
      "Bangladesh!\n",
      "Bangladesh!\n",
      "Bangladesh!\n",
      "Bangladesh!\n"
     ]
    }
   ],
   "source": [
    "print(\"Bangladesh!\")\n",
    "print(\"Bangladesh!\")\n",
    "print(\"Bangladesh!\")\n",
    "print(\"Bangladesh!\")\n",
    "print(\"Bangladesh!\")"
   ]
  },
  {
   "cell_type": "markdown",
   "id": "e267ffa4",
   "metadata": {},
   "source": [
    "## `for` loop\n",
    "### Syntax \n",
    "```python\n",
    "for var in sequence: \n",
    "    Body of for \n",
    "```\n",
    "### Flowchart\n",
    "![img](../img/forLoop.jpg)"
   ]
  },
  {
   "cell_type": "code",
   "execution_count": 36,
   "id": "9ea60125",
   "metadata": {},
   "outputs": [
    {
     "name": "stdout",
     "output_type": "stream",
     "text": [
      "1\n",
      "2\n",
      "3\n"
     ]
    }
   ],
   "source": [
    "# List Iteration\n",
    "li = [1, 2, 3] \n",
    "for i in li: \n",
    "    print(i) "
   ]
  },
  {
   "cell_type": "code",
   "execution_count": 37,
   "id": "ba856aa3",
   "metadata": {},
   "outputs": [
    {
     "name": "stdout",
     "output_type": "stream",
     "text": [
      "B\n",
      "a\n",
      "n\n",
      "g\n",
      "l\n",
      "a\n",
      "d\n",
      "e\n",
      "s\n",
      "h\n"
     ]
    }
   ],
   "source": [
    "# String iteration\n",
    "s = \"Bangladesh\" \n",
    "for j in s: \n",
    "    print(j) "
   ]
  },
  {
   "cell_type": "code",
   "execution_count": 38,
   "id": "ae487d85",
   "metadata": {},
   "outputs": [
    {
     "name": "stdout",
     "output_type": "stream",
     "text": [
      "1\n",
      "2\n",
      "3\n",
      "4\n",
      "5\n",
      "6\n",
      "7\n",
      "8\n",
      "9\n",
      "10\n"
     ]
    }
   ],
   "source": [
    "# for loop using range function: Increment \n",
    "for n in range(1, 11): \n",
    "    print(n) "
   ]
  },
  {
   "cell_type": "code",
   "execution_count": 9,
   "id": "b44c8ebb",
   "metadata": {},
   "outputs": [
    {
     "name": "stdout",
     "output_type": "stream",
     "text": [
      "10\n",
      "9\n",
      "8\n",
      "7\n",
      "6\n",
      "5\n",
      "4\n",
      "3\n",
      "2\n",
      "1\n"
     ]
    }
   ],
   "source": [
    "# for loop using range function: Decrement  \n",
    "for m in range(10, 0, -1): \n",
    "    print(m) "
   ]
  },
  {
   "cell_type": "markdown",
   "id": "c85cc44b",
   "metadata": {},
   "source": [
    "## `while` loop \n",
    "### Syntax \n",
    "```python\n",
    "Counter \n",
    "while condition: \n",
    "    Body of while \n",
    "```\n",
    "\n",
    "### Flowchart \n",
    "![img](../img/whileLoopFlowchart.jpg)"
   ]
  },
  {
   "cell_type": "code",
   "execution_count": 1,
   "id": "5bac153c",
   "metadata": {},
   "outputs": [
    {
     "name": "stdout",
     "output_type": "stream",
     "text": [
      "5050\n"
     ]
    }
   ],
   "source": [
    "# Sum of 1-100 natural numbers \n",
    "total = 0\n",
    "n = 1 \n",
    "while n <= 100:\n",
    "    total = total + n \n",
    "    n = n+ 1\n",
    "print(total)    "
   ]
  },
  {
   "cell_type": "code",
   "execution_count": 4,
   "id": "48f72a1e",
   "metadata": {},
   "outputs": [
    {
     "name": "stdout",
     "output_type": "stream",
     "text": [
      "1\n",
      "2\n",
      "3\n",
      "4\n",
      "5\n",
      "6\n",
      "7\n",
      "8\n",
      "9\n",
      "10\n"
     ]
    }
   ],
   "source": [
    "# Increment \n",
    "i = 0 \n",
    "while i < 10: \n",
    "    i += 1 \n",
    "    print(i)"
   ]
  },
  {
   "cell_type": "code",
   "execution_count": 23,
   "id": "1a4e32f0",
   "metadata": {},
   "outputs": [
    {
     "name": "stdout",
     "output_type": "stream",
     "text": [
      "9\n",
      "8\n",
      "7\n",
      "6\n",
      "5\n",
      "4\n",
      "3\n",
      "2\n",
      "1\n",
      "0\n"
     ]
    }
   ],
   "source": [
    "# Decrement \n",
    "i = 10 \n",
    "while i > 0:  \n",
    "    i -= 1 \n",
    "    print(i) "
   ]
  },
  {
   "cell_type": "markdown",
   "id": "8b32ffb8",
   "metadata": {},
   "source": [
    "## `break` statement \n",
    "![](./img/how-break-statement-works.jpg)\n",
    "\n",
    "![img](../img/flowchart-break-statement.jpg)"
   ]
  },
  {
   "cell_type": "code",
   "execution_count": 10,
   "id": "8e573112",
   "metadata": {},
   "outputs": [
    {
     "name": "stdout",
     "output_type": "stream",
     "text": [
      "1\n",
      "2\n",
      "3\n",
      "4\n"
     ]
    }
   ],
   "source": [
    "# Example of break statement in while loop-1\n",
    "j = 0 \n",
    "while j < 10: \n",
    "    j += 1 \n",
    "    if j == 5: \n",
    "        break \n",
    "    print(j) "
   ]
  },
  {
   "cell_type": "code",
   "execution_count": 46,
   "id": "b65f324c",
   "metadata": {},
   "outputs": [
    {
     "name": "stdout",
     "output_type": "stream",
     "text": [
      "1\n",
      "2\n",
      "3\n",
      "4\n"
     ]
    }
   ],
   "source": [
    "# Example of break statement in while loop-2\n",
    "x = 0 \n",
    "while x < 100: \n",
    "    x += 1 \n",
    "    if x == 5: \n",
    "        break \n",
    "    print(x)  "
   ]
  },
  {
   "cell_type": "code",
   "execution_count": 11,
   "id": "f5668d66",
   "metadata": {},
   "outputs": [
    {
     "name": "stdout",
     "output_type": "stream",
     "text": [
      "1\n",
      "2\n",
      "3\n",
      "4\n"
     ]
    }
   ],
   "source": [
    "# Example of break statement in for loop-1\n",
    "for y in range(1, 100):\n",
    "    if y == 5: \n",
    "        break\n",
    "    print(y)"
   ]
  },
  {
   "cell_type": "code",
   "execution_count": 14,
   "id": "87bb9cef",
   "metadata": {},
   "outputs": [
    {
     "name": "stdout",
     "output_type": "stream",
     "text": [
      "1\n",
      "2\n",
      "3\n",
      "4\n"
     ]
    }
   ],
   "source": [
    "# Example of break statement in for loop-2\n",
    "for y in range(1, 100):\n",
    "    if y % 5 == 0: \n",
    "        break\n",
    "    print(y)"
   ]
  },
  {
   "cell_type": "markdown",
   "id": "25a3d85d",
   "metadata": {},
   "source": [
    "## `continue` Statement in `for` and `while` loop \n",
    "![img](../img/how-continue-statment-works.jpg)\n",
    "![img](../img/continue-statement-flowchart.jpg)"
   ]
  },
  {
   "cell_type": "code",
   "execution_count": 50,
   "id": "358028fc",
   "metadata": {},
   "outputs": [
    {
     "name": "stdout",
     "output_type": "stream",
     "text": [
      "1\n",
      "2\n",
      "3\n",
      "4\n",
      "6\n",
      "7\n",
      "8\n",
      "9\n",
      "10\n"
     ]
    }
   ],
   "source": [
    "# Example of continue satement in while loop\n",
    "x = 0 \n",
    "while x < 10: \n",
    "    x += 1 \n",
    "    if x == 5: \n",
    "        continue \n",
    "    print(x)  "
   ]
  },
  {
   "cell_type": "code",
   "execution_count": 15,
   "id": "127b891c",
   "metadata": {},
   "outputs": [
    {
     "name": "stdout",
     "output_type": "stream",
     "text": [
      "1\n",
      "2\n",
      "3\n",
      "4\n",
      "6\n",
      "7\n",
      "8\n",
      "9\n"
     ]
    }
   ],
   "source": [
    "# Example of continue satement in for loop\n",
    "for y in range(1, 10):\n",
    "    if y == 5: \n",
    "        continue\n",
    "    print(y)"
   ]
  },
  {
   "cell_type": "markdown",
   "id": "4c255827",
   "metadata": {},
   "source": [
    "## `pass` statement"
   ]
  },
  {
   "cell_type": "code",
   "execution_count": 6,
   "id": "5a6770bc",
   "metadata": {},
   "outputs": [],
   "source": [
    "# pass statement in python control flow structure \n",
    "for i in range(10): \n",
    "    pass "
   ]
  },
  {
   "cell_type": "code",
   "execution_count": 5,
   "id": "9c6f10c4",
   "metadata": {},
   "outputs": [],
   "source": [
    "x = 2 \n",
    "if x < 0: \n",
    "    pass  "
   ]
  },
  {
   "cell_type": "markdown",
   "id": "13e9614d",
   "metadata": {},
   "source": [
    "## `range()` function"
   ]
  },
  {
   "cell_type": "code",
   "execution_count": 31,
   "id": "1e4a2bd1",
   "metadata": {},
   "outputs": [
    {
     "data": {
      "text/plain": [
       "range(1, 10)"
      ]
     },
     "execution_count": 31,
     "metadata": {},
     "output_type": "execute_result"
    }
   ],
   "source": [
    "range(1,10) "
   ]
  },
  {
   "cell_type": "code",
   "execution_count": 32,
   "id": "f9f360f4",
   "metadata": {},
   "outputs": [
    {
     "data": {
      "text/plain": [
       "range(1, 10, 2)"
      ]
     },
     "execution_count": 32,
     "metadata": {},
     "output_type": "execute_result"
    }
   ],
   "source": [
    "range(1, 10, 2)"
   ]
  },
  {
   "cell_type": "code",
   "execution_count": 25,
   "id": "80ff6164",
   "metadata": {},
   "outputs": [
    {
     "data": {
      "text/plain": [
       "[0, 1, 2, 3, 4, 5, 6, 7, 8, 9]"
      ]
     },
     "execution_count": 25,
     "metadata": {},
     "output_type": "execute_result"
    }
   ],
   "source": [
    "list(range(10)) # range(i) ==> i - 1 "
   ]
  },
  {
   "cell_type": "code",
   "execution_count": 28,
   "id": "600f5b07",
   "metadata": {},
   "outputs": [
    {
     "data": {
      "text/plain": [
       "[1, 2, 3, 4, 5, 6, 7, 8, 9]"
      ]
     },
     "execution_count": 28,
     "metadata": {},
     "output_type": "execute_result"
    }
   ],
   "source": [
    "list(range(1, 10)) # range(i) ==> i - 1 "
   ]
  },
  {
   "cell_type": "code",
   "execution_count": 29,
   "id": "55d48fef",
   "metadata": {},
   "outputs": [
    {
     "data": {
      "text/plain": [
       "[1, 2, 3, 4, 5, 6, 7, 8, 9, 10]"
      ]
     },
     "execution_count": 29,
     "metadata": {},
     "output_type": "execute_result"
    }
   ],
   "source": [
    "list(range(1, 11)) # range(i) ==> i - 1 "
   ]
  },
  {
   "cell_type": "code",
   "execution_count": 30,
   "id": "d7c576eb",
   "metadata": {},
   "outputs": [
    {
     "data": {
      "text/plain": [
       "[1, 3, 5, 7, 9]"
      ]
     },
     "execution_count": 30,
     "metadata": {},
     "output_type": "execute_result"
    }
   ],
   "source": [
    "list(range(1, 11, 2)) # range(i) ==> i - 1 "
   ]
  },
  {
   "cell_type": "code",
   "execution_count": 41,
   "id": "2e864755",
   "metadata": {},
   "outputs": [
    {
     "data": {
      "text/plain": [
       "[10, 8, 6, 4, 2]"
      ]
     },
     "execution_count": 41,
     "metadata": {},
     "output_type": "execute_result"
    }
   ],
   "source": [
    "list(range(10, 1, -2)) # range(i) ==> i - 1 "
   ]
  },
  {
   "cell_type": "code",
   "execution_count": 1,
   "id": "9b356566",
   "metadata": {},
   "outputs": [
    {
     "data": {
      "text/plain": [
       "[140,\n",
       " 142,\n",
       " 144,\n",
       " 146,\n",
       " 148,\n",
       " 150,\n",
       " 152,\n",
       " 154,\n",
       " 156,\n",
       " 158,\n",
       " 160,\n",
       " 162,\n",
       " 164,\n",
       " 166,\n",
       " 168,\n",
       " 170,\n",
       " 172,\n",
       " 174,\n",
       " 176,\n",
       " 178,\n",
       " 180,\n",
       " 182,\n",
       " 184,\n",
       " 186,\n",
       " 188,\n",
       " 190,\n",
       " 192,\n",
       " 194,\n",
       " 196,\n",
       " 198,\n",
       " 200]"
      ]
     },
     "execution_count": 1,
     "metadata": {},
     "output_type": "execute_result"
    }
   ],
   "source": [
    "# 1400, 2000(included) and 2 step  \n",
    "list(range(140, 201, 2))"
   ]
  },
  {
   "cell_type": "markdown",
   "id": "45df1770",
   "metadata": {},
   "source": [
    "*Copyright &copy; 2024  [Md. Jubayer Hossain](https://hossainlab.github.io/) &  [Center for Health Innovation, Research, Action and Learning - Bangladesh (CHIRAL Bangladesh) ](https://www.chiralbd.org/). All rights reserved*"
   ]
  }
 ],
 "metadata": {
  "kernelspec": {
   "display_name": "Python 3 (ipykernel)",
   "language": "python",
   "name": "python3"
  },
  "language_info": {
   "codemirror_mode": {
    "name": "ipython",
    "version": 3
   },
   "file_extension": ".py",
   "mimetype": "text/x-python",
   "name": "python",
   "nbconvert_exporter": "python",
   "pygments_lexer": "ipython3",
   "version": "3.8.18"
  }
 },
 "nbformat": 4,
 "nbformat_minor": 5
}
