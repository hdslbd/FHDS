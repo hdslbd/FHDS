{
 "cells": [
  {
   "cell_type": "markdown",
   "id": "ab8038c5",
   "metadata": {},
   "source": [
    "# Python for Health Data Analysis (PY4HDA)\n",
    "*Lectured by [Md. Jubayer Hossain](https://hossainlab.github.io/) | Course  & Materials Designed by [Md. Jubayer Hossain](https://hossainlab.github.io/)*\n",
    "\n",
    "\n",
    "# Python Date & Time\n",
    "- Datetime Module\n",
    "- Current date & time\n",
    "- datetime.strftime()\n",
    "- datetime.strptime()"
   ]
  },
  {
   "cell_type": "markdown",
   "id": "2bdcaecf",
   "metadata": {},
   "source": [
    "### Datetime Module\n",
    "\n",
    "The `datetime` module in Python provides `classes` for working with dates and times. It includes several `classes` that allow you to represent and manipulate `dates`, `times`, and `durations`.\n",
    "\n",
    "- `date` Class: Instances are created using the `date(year, month, day)` constructor.\n",
    "- `time` Class:  Instances are created using the `time(hour, minute, second, microsecond)` constructor.\n",
    "- `datetime` Class\n",
    "- `timedelta` Class\n",
    "- `timezone` Class\n",
    "- `Formatting and Parsing`: The `strftime` method allows you to format `datetime` objects as `strings`, and the `strptime` function enables you to parse strings into `datetime` objects."
   ]
  },
  {
   "cell_type": "code",
   "execution_count": 1,
   "id": "b843f2a2",
   "metadata": {},
   "outputs": [],
   "source": [
    "import datetime"
   ]
  },
  {
   "cell_type": "code",
   "execution_count": 3,
   "id": "700fb796",
   "metadata": {},
   "outputs": [
    {
     "data": {
      "text/plain": [
       "datetime.datetime(2024, 1, 17, 22, 44, 43, 157607)"
      ]
     },
     "execution_count": 3,
     "metadata": {},
     "output_type": "execute_result"
    }
   ],
   "source": [
    "# get the current date and time\n",
    "datetime.datetime.now()"
   ]
  },
  {
   "cell_type": "code",
   "execution_count": null,
   "id": "55274c29",
   "metadata": {},
   "outputs": [],
   "source": [
    "# get current date\n",
    "datetime.date.today()"
   ]
  },
  {
   "cell_type": "code",
   "execution_count": null,
   "id": "2d008e36",
   "metadata": {},
   "outputs": [],
   "source": [
    "#Attributes of datetime Module\n",
    "print(dir(datetime))"
   ]
  },
  {
   "cell_type": "code",
   "execution_count": null,
   "id": "b0d12630",
   "metadata": {},
   "outputs": [],
   "source": []
  },
  {
   "cell_type": "markdown",
   "id": "57961e80",
   "metadata": {},
   "source": [
    "### Datetime.strftime()\n",
    "- The `strftime()` method returns a string representing date and time using `date`, `time` or `datetime object`."
   ]
  },
  {
   "cell_type": "code",
   "execution_count": null,
   "id": "7e497533",
   "metadata": {},
   "outputs": [],
   "source": [
    "from datetime import datetime"
   ]
  },
  {
   "cell_type": "markdown",
   "id": "9320e1e5",
   "metadata": {},
   "source": [
    "### Current date & time"
   ]
  },
  {
   "cell_type": "code",
   "execution_count": null,
   "id": "1311b5d2",
   "metadata": {},
   "outputs": [],
   "source": [
    "# current date and time\n",
    "datetime.now()"
   ]
  },
  {
   "cell_type": "code",
   "execution_count": null,
   "id": "70a4cce4",
   "metadata": {},
   "outputs": [],
   "source": [
    "now.strftime(\"%Y\")"
   ]
  },
  {
   "cell_type": "code",
   "execution_count": null,
   "id": "9c95d25d",
   "metadata": {},
   "outputs": [],
   "source": [
    "year = now.strftime(\"%Y\")\n",
    "print(\"year:\", year)"
   ]
  },
  {
   "cell_type": "code",
   "execution_count": null,
   "id": "52003a0c",
   "metadata": {},
   "outputs": [],
   "source": [
    "#similarly\n",
    "#month = now.strftime(\"%m\")\n",
    "#print(\"month:\", month)\n",
    "\n",
    "#day = now.strftime(\"%d\")\n",
    "#print(\"day:\", day)\n",
    "\n",
    "#time = now.strftime(\"%H:%M:%S\")\n",
    "#print(\"time:\", time)"
   ]
  },
  {
   "cell_type": "markdown",
   "id": "d09fc75d",
   "metadata": {},
   "source": [
    "### Datetime.strptime()\n",
    "The `strptime()` method creates a datetime object from the given `string`, it needs to be in a `certain format`."
   ]
  },
  {
   "cell_type": "code",
   "execution_count": null,
   "id": "8b6eabee",
   "metadata": {},
   "outputs": [],
   "source": [
    "string = \"21 January, 2024\""
   ]
  },
  {
   "cell_type": "code",
   "execution_count": null,
   "id": "7a685f7e",
   "metadata": {},
   "outputs": [],
   "source": [
    "print(\"Date is =\", string)"
   ]
  },
  {
   "cell_type": "code",
   "execution_count": null,
   "id": "0a38982f",
   "metadata": {},
   "outputs": [],
   "source": [
    "datetime.strptime(string, \"%d %B, %Y\")"
   ]
  },
  {
   "cell_type": "markdown",
   "id": "3a081e90",
   "metadata": {},
   "source": [
    "- `%d` - Represents the day\n",
    "- `%B` - Month's name in full\n",
    "- `%Y` - Year in four digits."
   ]
  },
  {
   "cell_type": "markdown",
   "id": "1601540b",
   "metadata": {},
   "source": [
    "*Copyright &copy; 2024  [Md. Jubayer Hossain](https://hossainlab.github.io/) &  [Center for Health Innovation, Research, Action and Learning - Bangladesh (CHIRAL Bangladesh) ](https://www.chiralbd.org/). All rights reserved*"
   ]
  }
 ],
 "metadata": {
  "kernelspec": {
   "display_name": "Python 3 (ipykernel)",
   "language": "python",
   "name": "python3"
  },
  "language_info": {
   "codemirror_mode": {
    "name": "ipython",
    "version": 3
   },
   "file_extension": ".py",
   "mimetype": "text/x-python",
   "name": "python",
   "nbconvert_exporter": "python",
   "pygments_lexer": "ipython3",
   "version": "3.9.12"
  }
 },
 "nbformat": 4,
 "nbformat_minor": 5
}
