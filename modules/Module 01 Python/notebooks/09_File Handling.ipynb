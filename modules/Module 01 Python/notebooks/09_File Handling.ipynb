{
 "cells": [
  {
   "cell_type": "markdown",
   "id": "0b41d885-ebc5-424d-be97-900a210696a3",
   "metadata": {},
   "source": [
    "# Python for Health Data Science (PY4HDS) - Files Handling \n",
    "*Lectured by [Md. Jubayer Hossain](https://hossainlab.github.io/) | Course  & Materials Designed by [Md. Jubayer Hossain](https://hossainlab.github.io/)*\n",
    "\n",
    "## Topics: Files\n",
    "- File Operation\n",
    "- Directory"
   ]
  },
  {
   "cell_type": "markdown",
   "id": "15ffd5ea",
   "metadata": {},
   "source": [
    "## File Operation\n",
    "- To open and manipulate files using the built-in `open()` function. \n",
    "- The `open()` function returns a `file object` that provides methods for interacting with the file. \n",
    "\n",
    "**Opening a File:** Use the `open()` function to open a file. Need to specify the `file path` and the `mode` in which you want to open the file (e.g., read, write, append).\n",
    "\n",
    "**File Modes:**\n",
    "There are different modes for opening a file:\n",
    "- `\"r\"`: Read (default mode). Opens the file for reading.\n",
    "- `\"w\"`: Write. Opens the file for writing. Creates a new file or truncates an existing file.\n",
    "- `\"a\"`: Append. Opens the file for writing. Appends data to the end of the file.\n",
    "- `\"b\"`: Binary mode. Opens the file in binary mode.\n",
    "- `\"x\"`: Exclusive creation. Creates a new file. If the file already exists, the operation fails.\n",
    "\n",
    "**Reading from a File:**\n",
    "The file is opened in `read mode (\"r\")`, can use methods like `read()`.\n",
    "\n",
    "**Writing to a File:**\n",
    "The file is opened in `write mode (\"w\")`, can use methods like `write()`.\n",
    "\n",
    "**Appending to a File:**\n",
    "A file is opened in `append mode (\"a\")`, new content is appended to the end of the file.\n",
    "\n",
    "**Closing a File:**\n",
    "After performing operations close it the file using the `close()` method, is essential.\n",
    "\n",
    "**Binary Mode:**\n",
    "Binary mode `(\"b\")` is used when working with `non-text files`, such as images or executables."
   ]
  },
  {
   "cell_type": "code",
   "execution_count": 70,
   "id": "a8d578c9",
   "metadata": {},
   "outputs": [],
   "source": [
    "path = \"example.txt\""
   ]
  },
  {
   "cell_type": "code",
   "execution_count": 71,
   "id": "e8286a4c",
   "metadata": {},
   "outputs": [],
   "source": [
    "# Opening a file in read mode\n",
    "file = open(path, \"r\")"
   ]
  },
  {
   "cell_type": "code",
   "execution_count": 72,
   "id": "35c6f1d3",
   "metadata": {},
   "outputs": [
    {
     "data": {
      "text/plain": [
       "\"Lorem Ipsum is simply dummy text of the printing and typesetting industry. Lorem Ipsum has been the industry's standard dummy text ever since the 1500s, when an unknown printer took a galley of type and scrambled it to make a type specimen book. \\nWelcome again\\nWelcome again\""
      ]
     },
     "execution_count": 72,
     "metadata": {},
     "output_type": "execute_result"
    }
   ],
   "source": [
    "file.read()"
   ]
  },
  {
   "cell_type": "code",
   "execution_count": 33,
   "id": "ace146f6",
   "metadata": {},
   "outputs": [],
   "source": [
    "#file.close()"
   ]
  },
  {
   "cell_type": "code",
   "execution_count": 75,
   "id": "c07b1ad9",
   "metadata": {},
   "outputs": [],
   "source": [
    "#append\n",
    "a_file = open(path, \"a\")"
   ]
  },
  {
   "cell_type": "code",
   "execution_count": 76,
   "id": "bd6fb9b5",
   "metadata": {},
   "outputs": [
    {
     "data": {
      "text/plain": [
       "14"
      ]
     },
     "execution_count": 76,
     "metadata": {},
     "output_type": "execute_result"
    }
   ],
   "source": [
    "a_file.write(\"\\nWelcome again\")"
   ]
  },
  {
   "cell_type": "code",
   "execution_count": 77,
   "id": "b232135b",
   "metadata": {},
   "outputs": [
    {
     "ename": "UnsupportedOperation",
     "evalue": "not readable",
     "output_type": "error",
     "traceback": [
      "\u001b[1;31m---------------------------------------------------------------------------\u001b[0m",
      "\u001b[1;31mUnsupportedOperation\u001b[0m                      Traceback (most recent call last)",
      "Input \u001b[1;32mIn [77]\u001b[0m, in \u001b[0;36m<cell line: 1>\u001b[1;34m()\u001b[0m\n\u001b[1;32m----> 1\u001b[0m \u001b[43ma_file\u001b[49m\u001b[38;5;241;43m.\u001b[39;49m\u001b[43mread\u001b[49m\u001b[43m(\u001b[49m\u001b[43m)\u001b[49m\n",
      "\u001b[1;31mUnsupportedOperation\u001b[0m: not readable"
     ]
    }
   ],
   "source": [
    "a_file.read()"
   ]
  },
  {
   "cell_type": "code",
   "execution_count": 59,
   "id": "c921e9ac",
   "metadata": {},
   "outputs": [],
   "source": [
    "# Opening a file in Write mode: totally rewrite the whole document\n",
    "w_file = open(path, \"w\")"
   ]
  },
  {
   "cell_type": "code",
   "execution_count": 47,
   "id": "9999a78f",
   "metadata": {},
   "outputs": [
    {
     "data": {
      "text/plain": [
       "10"
      ]
     },
     "execution_count": 47,
     "metadata": {},
     "output_type": "execute_result"
    }
   ],
   "source": [
    "w_file.write(\"thank you\")"
   ]
  },
  {
   "cell_type": "code",
   "execution_count": 60,
   "id": "5fa500cb",
   "metadata": {},
   "outputs": [
    {
     "data": {
      "text/plain": [
       "''"
      ]
     },
     "execution_count": 60,
     "metadata": {},
     "output_type": "execute_result"
    }
   ],
   "source": [
    "file.read()"
   ]
  },
  {
   "cell_type": "markdown",
   "id": "dcd500f7",
   "metadata": {},
   "source": [
    "## Directory\n",
    "\n",
    "- Current Working Directory (CWD)\n",
    "- Listing Files and Directories\n",
    "- Creating a Directory\n",
    "- Removing a Directory"
   ]
  },
  {
   "cell_type": "markdown",
   "id": "1cf4a101",
   "metadata": {},
   "source": [
    "### Current Working Directory (CWD)"
   ]
  },
  {
   "cell_type": "code",
   "execution_count": 78,
   "id": "029175b5",
   "metadata": {},
   "outputs": [
    {
     "name": "stdout",
     "output_type": "stream",
     "text": [
      "Current Working Directory: C:\\Users\\muhib\\Downloads\\Module 01 Fundamentals of Python\\notebooks\n"
     ]
    }
   ],
   "source": [
    "import os\n",
    "\n",
    "# Get current working directory\n",
    "cwd = os.getcwd()\n",
    "print(\"Current Working Directory:\", cwd)"
   ]
  },
  {
   "cell_type": "markdown",
   "id": "c97c9576",
   "metadata": {},
   "source": [
    "### Listing Files and Directories"
   ]
  },
  {
   "cell_type": "code",
   "execution_count": null,
   "id": "444142b2",
   "metadata": {},
   "outputs": [],
   "source": [
    "os.listdir()"
   ]
  },
  {
   "cell_type": "markdown",
   "id": "4a54ad96",
   "metadata": {},
   "source": [
    "### Creating a Directory"
   ]
  },
  {
   "cell_type": "code",
   "execution_count": null,
   "id": "0d9b904c",
   "metadata": {},
   "outputs": [],
   "source": [
    "# Create a new directory\n",
    "os.makedirs(\"C:/Users/muhib/Downloads/Module 01 Fundamentals of Python/notebooks/directory\")"
   ]
  },
  {
   "cell_type": "code",
   "execution_count": null,
   "id": "2f4e3fd7",
   "metadata": {},
   "outputs": [],
   "source": [
    "# Change current working directory\n",
    "os.chdir(\"C:/Users/muhib/Downloads/Module 01 Fundamentals of Python/notebooks/directory\")"
   ]
  },
  {
   "cell_type": "markdown",
   "id": "7f13c2fc",
   "metadata": {},
   "source": [
    "### Removing a Directory"
   ]
  },
  {
   "cell_type": "code",
   "execution_count": null,
   "id": "ba3576d8",
   "metadata": {},
   "outputs": [],
   "source": [
    "import os\n",
    "import shutil\n",
    "\n",
    "# Remove an empty directory\n",
    "os.rmdir(\"C:/Users/muhib/Downloads/Module 01 Fundamentals of Python/notebooks/directory\")"
   ]
  },
  {
   "cell_type": "code",
   "execution_count": null,
   "id": "97506f46",
   "metadata": {},
   "outputs": [],
   "source": [
    "# Remove a directory and its contents\n",
    "shutil.rmtree(\"/path/to/directory\")"
   ]
  },
  {
   "cell_type": "markdown",
   "id": "f71b28ad-e3e7-46e7-ba9c-10a31f05f0e2",
   "metadata": {},
   "source": [
    "*Copyright &copy; 2023  [Md. Jubayer Hossain](https://hossainlab.github.io/) &  [Center for Health Innovation, Research, Action and Learning - Bangladesh (CHIRAL Bangladesh) ](https://www.chiralbd.org/). All rights reserved*"
   ]
  }
 ],
 "metadata": {
  "kernelspec": {
   "display_name": "Python 3 (ipykernel)",
   "language": "python",
   "name": "python3"
  },
  "language_info": {
   "codemirror_mode": {
    "name": "ipython",
    "version": 3
   },
   "file_extension": ".py",
   "mimetype": "text/x-python",
   "name": "python",
   "nbconvert_exporter": "python",
   "pygments_lexer": "ipython3",
   "version": "3.9.12"
  },
  "widgets": {
   "application/vnd.jupyter.widget-state+json": {
    "state": {},
    "version_major": 2,
    "version_minor": 0
   }
  }
 },
 "nbformat": 4,
 "nbformat_minor": 5
}
